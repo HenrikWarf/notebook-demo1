{
 "cells": [
  {
   "cell_type": "markdown",
   "metadata": {},
   "source": [
    "# Tensorflow Sequential API "
   ]
  },
  {
   "cell_type": "markdown",
   "metadata": {},
   "source": [
    "### Introduction"
   ]
  },
  {
   "cell_type": "markdown",
   "metadata": {},
   "source": [
    "In this project I show how to use the Tensorflow `sequential API within TF 2.0`. I will use the US Census Dataset and create a binary classification model. The data used has already been preprocessed, normalized and one-hot encoded. Data is stored within a Google Cloud Storage Bucket ready to be loaded into pandas dataframe or tensorflow dataset. "
   ]
  },
  {
   "cell_type": "markdown",
   "metadata": {},
   "source": [
    "### Import Libraries"
   ]
  },
  {
   "cell_type": "code",
   "execution_count": 19,
   "metadata": {},
   "outputs": [],
   "source": [
    "from collections import namedtuple\n",
    "import numpy as np\n",
    "import pandas as pd\n",
    "from sklearn.model_selection import train_test_split\n",
    "from sklearn import preprocessing\n",
    "import datetime\n",
    "import functools"
   ]
  },
  {
   "cell_type": "code",
   "execution_count": 9,
   "metadata": {},
   "outputs": [],
   "source": [
    "import tensorflow as tf\n",
    "from tensorflow import keras\n",
    "from tensorflow.keras import layers\n",
    "from tensorflow import feature_column"
   ]
  },
  {
   "cell_type": "code",
   "execution_count": 10,
   "metadata": {},
   "outputs": [
    {
     "data": {
      "text/plain": [
       "'2.0.0-beta0'"
      ]
     },
     "execution_count": 10,
     "metadata": {},
     "output_type": "execute_result"
    }
   ],
   "source": [
    "tf.__version__"
   ]
  },
  {
   "cell_type": "markdown",
   "metadata": {},
   "source": [
    "### Load Data from Google Cloud Storage"
   ]
  },
  {
   "cell_type": "code",
   "execution_count": 11,
   "metadata": {},
   "outputs": [],
   "source": [
    "#Specify data location\n",
    "x_train_data = 'gs://crazy-hippo-01/dataset/x_train.csv'\n",
    "x_test_data = 'gs://crazy-hippo-01/dataset/x_test.csv'\n",
    "y_train_data = 'gs://crazy-hippo-01/dataset/y_train.csv'\n",
    "y_test_data = 'gs://crazy-hippo-01/dataset/y_test.csv'\n",
    "x_val = 'gs://crazy-hippo-01/dataset/x_val.csv'\n",
    "y_val = 'gs://crazy-hippo-01/dataset/y_val.csv'"
   ]
  },
  {
   "cell_type": "code",
   "execution_count": 12,
   "metadata": {},
   "outputs": [],
   "source": [
    "#Read CSV files into a Pandas Dataframe\n",
    "X_train = pd.read_csv(x_train_data)\n",
    "y_train = pd.read_csv(y_train_data)\n",
    "X_test = pd.read_csv(x_test_data)\n",
    "y_test = pd.read_csv(y_test_data)\n",
    "x_val = pd.read_csv(x_val)\n",
    "y_val = pd.read_csv(y_val)"
   ]
  },
  {
   "cell_type": "markdown",
   "metadata": {},
   "source": [
    "### Create Tensorflow Dataset"
   ]
  },
  {
   "cell_type": "code",
   "execution_count": 13,
   "metadata": {},
   "outputs": [],
   "source": [
    "FEATURES = X_train.columns\n",
    "NUMERIC_COLS = X_train.columns[2:]\n",
    "CATEGORICAL_COLS = X_train.columns[:2]"
   ]
  },
  {
   "cell_type": "code",
   "execution_count": 14,
   "metadata": {},
   "outputs": [],
   "source": [
    "def create_dataset(x, y, batch_size, type='TRAIN'):\n",
    "    \n",
    "    #Load Pandas DF into tf dataset\n",
    "    dataset = tf.data.Dataset.from_tensor_slices((dict(x), y.values))\n",
    "    \n",
    "    #Apply shuffle, batch and repeat to the training data. For evaluation we apply batch.\n",
    "    if type == 'TRAIN': \n",
    "        dataset = dataset.shuffle(1000).batch(batch_size).repeat()\n",
    "    else: \n",
    "        dataset = dataset.batch(32)\n",
    "    \n",
    "    # We take advantage of multi-threading; 1=AUTOTUNE\n",
    "    dataset = dataset.prefetch(1)\n",
    "    \n",
    "    return dataset"
   ]
  },
  {
   "cell_type": "code",
   "execution_count": 15,
   "metadata": {},
   "outputs": [],
   "source": [
    "temp_dataset = create_dataset(X_train, y_train, 32, 'TRAIN')"
   ]
  },
  {
   "cell_type": "code",
   "execution_count": 16,
   "metadata": {},
   "outputs": [],
   "source": [
    "def show_batch(dataset):\n",
    "    for data, label in dataset.take(1):\n",
    "        for key, value in data.items():\n",
    "            print(\"{:20s}: {}\".format(key,value.numpy()))"
   ]
  },
  {
   "cell_type": "code",
   "execution_count": null,
   "metadata": {},
   "outputs": [],
   "source": [
    "show_batch(temp_dataset)"
   ]
  },
  {
   "cell_type": "markdown",
   "metadata": {},
   "source": [
    "### Build Model"
   ]
  },
  {
   "cell_type": "code",
   "execution_count": 20,
   "metadata": {},
   "outputs": [
    {
     "name": "stdout",
     "output_type": "stream",
     "text": [
      "Your model has been built....\n"
     ]
    }
   ],
   "source": [
    "def create_dnn_model(INPUTS, NUMERIC_COLS, CATEGORICAL_COLS):\n",
    "    \n",
    "    feature_columns = []\n",
    "    \n",
    "    # numeric cols\n",
    "    for col in INPUTS:\n",
    "        feature_columns.append(feature_column.numeric_column(col))\n",
    "    \n",
    "    # Create Feature and Input Layer\n",
    "    feature_layer = tf.keras.layers.DenseFeatures(feature_columns)\n",
    "\n",
    "    \n",
    "    model = tf.keras.Sequential([\n",
    "        feature_layer,\n",
    "        tf.keras.layers.Dense(32, activation='relu'),\n",
    "        tf.keras.layers.Dense(8, activation='relu'),\n",
    "        tf.keras.layers.Dense(1, activation='sigmoid')\n",
    "    ])\n",
    "\n",
    "    model.compile(optimizer='adam', \n",
    "                  loss='binary_crossentropy', \n",
    "                  metrics=['acc'])\n",
    "    \n",
    "    return model\n",
    "\n",
    "seq_model = create_dnn_model(FEATURES, NUMERIC_COLS, CATEGORICAL_COLS)\n",
    "\n",
    "print('Your model has been built....')\n",
    "#func_model.summary()"
   ]
  },
  {
   "cell_type": "markdown",
   "metadata": {},
   "source": [
    "### Input parameters"
   ]
  },
  {
   "cell_type": "code",
   "execution_count": 21,
   "metadata": {},
   "outputs": [],
   "source": [
    "TRAIN_BATCH_SIZE = 32\n",
    "NUM_TRAIN_EXAMPLES = len(X_train) # training dataset repeats, so it will wrap around\n",
    "EPOCHS = 5  # how many times to evaluate\n",
    "NUM_EVAL_EXAMPLES = 100 # enough to get a reasonable sample, but not so much that it slows down"
   ]
  },
  {
   "cell_type": "markdown",
   "metadata": {},
   "source": [
    "### Train Model"
   ]
  },
  {
   "cell_type": "code",
   "execution_count": 23,
   "metadata": {},
   "outputs": [
    {
     "name": "stdout",
     "output_type": "stream",
     "text": [
      "Epoch 1/5\n",
      "WARNING:tensorflow:From /home/jupyter/.local/lib/python3.5/site-packages/tensorflow/python/ops/math_grad.py:1250: add_dispatch_support.<locals>.wrapper (from tensorflow.python.ops.array_ops) is deprecated and will be removed in a future version.\n",
      "Instructions for updating:\n",
      "Use tf.where in 2.0, which has the same broadcast rule as np.where\n",
      "153/153 [==============================] - 4s 24ms/step - loss: 0.4987 - acc: 0.7000 - val_loss: 0.4116 - val_acc: 0.8134\n",
      "Epoch 2/5\n",
      "153/153 [==============================] - 1s 7ms/step - loss: 0.4070 - acc: 0.8148 - val_loss: 0.3819 - val_acc: 0.8175\n",
      "Epoch 3/5\n",
      "153/153 [==============================] - 1s 8ms/step - loss: 0.3859 - acc: 0.8267 - val_loss: 0.3724 - val_acc: 0.8200\n",
      "Epoch 4/5\n",
      "153/153 [==============================] - 1s 8ms/step - loss: 0.3679 - acc: 0.8369 - val_loss: 0.3658 - val_acc: 0.8259\n",
      "Epoch 5/5\n",
      "153/153 [==============================] - 1s 8ms/step - loss: 0.3787 - acc: 0.8108 - val_loss: 0.3556 - val_acc: 0.8291\n"
     ]
    }
   ],
   "source": [
    "train_dataset = create_dataset(X_train, y_train, TRAIN_BATCH_SIZE, 'TRAIN')\n",
    "eval_dataset = create_dataset(x_val, y_val, TRAIN_BATCH_SIZE, 'EVAL').take(NUM_EVAL_EXAMPLES)\n",
    "\n",
    "steps_per_epoch = NUM_TRAIN_EXAMPLES // (TRAIN_BATCH_SIZE * EPOCHS)\n",
    "\n",
    "\n",
    "history = seq_model.fit(train_dataset,\n",
    "     epochs= EPOCHS,\n",
    "     verbose=1, \n",
    "     steps_per_epoch=steps_per_epoch, \n",
    "     validation_data=eval_dataset,\n",
    "         )"
   ]
  },
  {
   "cell_type": "markdown",
   "metadata": {},
   "source": [
    "### Evaluate Model"
   ]
  },
  {
   "cell_type": "code",
   "execution_count": 24,
   "metadata": {},
   "outputs": [
    {
     "name": "stdout",
     "output_type": "stream",
     "text": [
      "20/20 [==============================] - 0s 4ms/step - loss: 0.3533 - acc: 0.8391\n"
     ]
    }
   ],
   "source": [
    "test_dataset = create_dataset(X_test, y_test, TRAIN_BATCH_SIZE, 'TEST')\n",
    "\n",
    "test_loss, test_acc = seq_model.evaluate(test_dataset, steps=20)"
   ]
  },
  {
   "cell_type": "markdown",
   "metadata": {},
   "source": [
    "### Visualize Training"
   ]
  },
  {
   "cell_type": "code",
   "execution_count": 25,
   "metadata": {},
   "outputs": [],
   "source": [
    "import matplotlib.pyplot as plt"
   ]
  },
  {
   "cell_type": "code",
   "execution_count": 26,
   "metadata": {},
   "outputs": [
    {
     "data": {
      "image/png": "[encoded data removed]",
      "text/plain": [
       "<Figure size 432x288 with 1 Axes>"
      ]
     },
     "metadata": {
      "needs_background": "light"
     },
     "output_type": "display_data"
    }
   ],
   "source": [
    "plt.plot(history.history['acc'])\n",
    "plt.plot(history.history['val_acc'])\n",
    "plt.title('Model Accuracy')\n",
    "plt.ylabel('accuracy')\n",
    "plt.xlabel('epoch')\n",
    "plt.legend(['train', 'val'], loc='upper left')\n",
    "plt.show()"
   ]
  },
  {
   "cell_type": "code",
   "execution_count": null,
   "metadata": {},
   "outputs": [],
   "source": []
  }
 ],
 "metadata": {
  "environment": {
   "name": "tf2-gpu.2-3.mnightly-2021-01-20-debian-10-test",
   "type": "gcloud",
   "uri": "gcr.io/deeplearning-platform-release/tf2-gpu.2-3:mnightly-2021-01-20-debian-10-test"
  },
  "kernelspec": {
   "display_name": "Python 3",
   "language": "python",
   "name": "python3"
  },
  "language_info": {
   "codemirror_mode": {
    "name": "ipython",
    "version": 3
   },
   "file_extension": ".py",
   "mimetype": "text/x-python",
   "name": "python",
   "nbconvert_exporter": "python",
   "pygments_lexer": "ipython3",
   "version": "3.7.9"
  }
 },
 "nbformat": 4,
 "nbformat_minor": 4
}
