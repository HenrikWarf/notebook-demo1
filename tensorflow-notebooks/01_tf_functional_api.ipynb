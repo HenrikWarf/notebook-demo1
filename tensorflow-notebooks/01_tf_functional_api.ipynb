{
 "cells": [
  {
   "cell_type": "markdown",
   "metadata": {},
   "source": [
    "# Tensorflow Functional API "
   ]
  },
  {
   "cell_type": "markdown",
   "metadata": {},
   "source": [
    "### Introduction"
   ]
  },
  {
   "cell_type": "markdown",
   "metadata": {},
   "source": [
    "In this project I show how to use the Tensorflow `functional API within TF 2.0`. I will use the US Census Dataset and create a binary classification model. The data used has already been preprocessed, normalized and one-hot encoded. Data is stored within a Google Cloud Storage Bucket ready to be loaded into pandas dataframe or tensorflow dataset. "
   ]
  },
  {
   "cell_type": "markdown",
   "metadata": {},
   "source": [
    "### Importing Libraries"
   ]
  },
  {
   "cell_type": "code",
   "execution_count": 2,
   "metadata": {},
   "outputs": [],
   "source": [
    "from collections import namedtuple\n",
    "import numpy as np\n",
    "import pandas as pd\n",
    "from sklearn.model_selection import train_test_split\n",
    "from sklearn import preprocessing\n",
    "import datetime\n",
    "import functools\n"
   ]
  },
  {
   "cell_type": "code",
   "execution_count": null,
   "metadata": {},
   "outputs": [],
   "source": [
    "!pip3 install tensorflow==2.0.0b1"
   ]
  },
  {
   "cell_type": "code",
   "execution_count": 6,
   "metadata": {},
   "outputs": [],
   "source": [
    "import tensorflow as tf\n",
    "from tensorflow import keras\n",
    "from tensorflow.keras import layers"
   ]
  },
  {
   "cell_type": "code",
   "execution_count": 7,
   "metadata": {},
   "outputs": [
    {
     "data": {
      "text/plain": [
       "'2.0.0-beta0'"
      ]
     },
     "execution_count": 7,
     "metadata": {},
     "output_type": "execute_result"
    }
   ],
   "source": [
    "tf.__version__"
   ]
  },
  {
   "cell_type": "markdown",
   "metadata": {},
   "source": [
    "### Load Data from Google Cloud Storage"
   ]
  },
  {
   "cell_type": "code",
   "execution_count": 129,
   "metadata": {},
   "outputs": [],
   "source": [
    "x_train_data = 'gs://crazy-hippo-01/dataset/x_train.csv'\n",
    "x_test_data = 'gs://crazy-hippo-01/dataset/x_test.csv'\n",
    "y_train_data = 'gs://crazy-hippo-01/dataset/y_train.csv'\n",
    "y_test_data = 'gs://crazy-hippo-01/dataset/y_test.csv'\n",
    "x_val = 'gs://crazy-hippo-01/dataset/x_val.csv'\n",
    "y_val = 'gs://crazy-hippo-01/dataset/y_val.csv'"
   ]
  },
  {
   "cell_type": "code",
   "execution_count": 130,
   "metadata": {},
   "outputs": [],
   "source": [
    "X_train = pd.read_csv(x_train_data)\n",
    "y_train = pd.read_csv(y_train_data)\n",
    "X_test = pd.read_csv(x_test_data)\n",
    "y_test = pd.read_csv(y_test_data)\n",
    "x_val = pd.read_csv(x_val)\n",
    "y_val = pd.read_csv(y_val)"
   ]
  },
  {
   "cell_type": "code",
   "execution_count": 132,
   "metadata": {},
   "outputs": [
    {
     "data": {
      "text/html": [
       "<div>\n",
       "<style scoped>\n",
       "    .dataframe tbody tr th:only-of-type {\n",
       "        vertical-align: middle;\n",
       "    }\n",
       "\n",
       "    .dataframe tbody tr th {\n",
       "        vertical-align: top;\n",
       "    }\n",
       "\n",
       "    .dataframe thead th {\n",
       "        text-align: right;\n",
       "    }\n",
       "</style>\n",
       "<table border=\"1\" class=\"dataframe\">\n",
       "  <thead>\n",
       "    <tr style=\"text-align: right;\">\n",
       "      <th></th>\n",
       "      <th>age</th>\n",
       "      <th>education_num</th>\n",
       "      <th>capital_gain</th>\n",
       "      <th>workclass_Federal-gov</th>\n",
       "      <th>workclass_Local-gov</th>\n",
       "      <th>workclass_Never-worked</th>\n",
       "      <th>workclass_Private</th>\n",
       "      <th>workclass_Self-emp-inc</th>\n",
       "      <th>workclass_Self-emp-not-inc</th>\n",
       "      <th>workclass_State-gov</th>\n",
       "      <th>...</th>\n",
       "      <th>marital_status_Married-spouse-absent</th>\n",
       "      <th>marital_status_Never-married</th>\n",
       "      <th>marital_status_Separated</th>\n",
       "      <th>marital_status_Widowed</th>\n",
       "      <th>relationship_Husband</th>\n",
       "      <th>relationship_Not-in-family</th>\n",
       "      <th>relationship_Other-relative</th>\n",
       "      <th>relationship_Own-child</th>\n",
       "      <th>relationship_Unmarried</th>\n",
       "      <th>relationship_Wife</th>\n",
       "    </tr>\n",
       "  </thead>\n",
       "  <tbody>\n",
       "    <tr>\n",
       "      <td>0</td>\n",
       "      <td>0.027397</td>\n",
       "      <td>0.600000</td>\n",
       "      <td>0.0</td>\n",
       "      <td>0</td>\n",
       "      <td>0</td>\n",
       "      <td>0</td>\n",
       "      <td>1</td>\n",
       "      <td>0</td>\n",
       "      <td>0</td>\n",
       "      <td>0</td>\n",
       "      <td>...</td>\n",
       "      <td>0</td>\n",
       "      <td>1</td>\n",
       "      <td>0</td>\n",
       "      <td>0</td>\n",
       "      <td>0</td>\n",
       "      <td>1</td>\n",
       "      <td>0</td>\n",
       "      <td>0</td>\n",
       "      <td>0</td>\n",
       "      <td>0</td>\n",
       "    </tr>\n",
       "    <tr>\n",
       "      <td>1</td>\n",
       "      <td>0.178082</td>\n",
       "      <td>0.666667</td>\n",
       "      <td>0.0</td>\n",
       "      <td>0</td>\n",
       "      <td>0</td>\n",
       "      <td>0</td>\n",
       "      <td>0</td>\n",
       "      <td>0</td>\n",
       "      <td>0</td>\n",
       "      <td>1</td>\n",
       "      <td>...</td>\n",
       "      <td>0</td>\n",
       "      <td>0</td>\n",
       "      <td>0</td>\n",
       "      <td>0</td>\n",
       "      <td>1</td>\n",
       "      <td>0</td>\n",
       "      <td>0</td>\n",
       "      <td>0</td>\n",
       "      <td>0</td>\n",
       "      <td>0</td>\n",
       "    </tr>\n",
       "    <tr>\n",
       "      <td>2</td>\n",
       "      <td>0.506849</td>\n",
       "      <td>0.533333</td>\n",
       "      <td>0.0</td>\n",
       "      <td>0</td>\n",
       "      <td>0</td>\n",
       "      <td>0</td>\n",
       "      <td>1</td>\n",
       "      <td>0</td>\n",
       "      <td>0</td>\n",
       "      <td>0</td>\n",
       "      <td>...</td>\n",
       "      <td>0</td>\n",
       "      <td>0</td>\n",
       "      <td>0</td>\n",
       "      <td>0</td>\n",
       "      <td>0</td>\n",
       "      <td>0</td>\n",
       "      <td>0</td>\n",
       "      <td>0</td>\n",
       "      <td>1</td>\n",
       "      <td>0</td>\n",
       "    </tr>\n",
       "    <tr>\n",
       "      <td>3</td>\n",
       "      <td>0.356164</td>\n",
       "      <td>0.666667</td>\n",
       "      <td>0.0</td>\n",
       "      <td>0</td>\n",
       "      <td>0</td>\n",
       "      <td>0</td>\n",
       "      <td>1</td>\n",
       "      <td>0</td>\n",
       "      <td>0</td>\n",
       "      <td>0</td>\n",
       "      <td>...</td>\n",
       "      <td>0</td>\n",
       "      <td>0</td>\n",
       "      <td>1</td>\n",
       "      <td>0</td>\n",
       "      <td>0</td>\n",
       "      <td>0</td>\n",
       "      <td>0</td>\n",
       "      <td>0</td>\n",
       "      <td>1</td>\n",
       "      <td>0</td>\n",
       "    </tr>\n",
       "    <tr>\n",
       "      <td>4</td>\n",
       "      <td>0.109589</td>\n",
       "      <td>0.533333</td>\n",
       "      <td>0.0</td>\n",
       "      <td>0</td>\n",
       "      <td>0</td>\n",
       "      <td>0</td>\n",
       "      <td>1</td>\n",
       "      <td>0</td>\n",
       "      <td>0</td>\n",
       "      <td>0</td>\n",
       "      <td>...</td>\n",
       "      <td>0</td>\n",
       "      <td>1</td>\n",
       "      <td>0</td>\n",
       "      <td>0</td>\n",
       "      <td>0</td>\n",
       "      <td>0</td>\n",
       "      <td>0</td>\n",
       "      <td>0</td>\n",
       "      <td>1</td>\n",
       "      <td>0</td>\n",
       "    </tr>\n",
       "  </tbody>\n",
       "</table>\n",
       "<p>5 rows × 40 columns</p>\n",
       "</div>"
      ],
      "text/plain": [
       "        age  education_num  capital_gain  workclass_Federal-gov  \\\n",
       "0  0.027397       0.600000           0.0                      0   \n",
       "1  0.178082       0.666667           0.0                      0   \n",
       "2  0.506849       0.533333           0.0                      0   \n",
       "3  0.356164       0.666667           0.0                      0   \n",
       "4  0.109589       0.533333           0.0                      0   \n",
       "\n",
       "   workclass_Local-gov  workclass_Never-worked  workclass_Private  \\\n",
       "0                    0                       0                  1   \n",
       "1                    0                       0                  0   \n",
       "2                    0                       0                  1   \n",
       "3                    0                       0                  1   \n",
       "4                    0                       0                  1   \n",
       "\n",
       "   workclass_Self-emp-inc  workclass_Self-emp-not-inc  workclass_State-gov  \\\n",
       "0                       0                           0                    0   \n",
       "1                       0                           0                    1   \n",
       "2                       0                           0                    0   \n",
       "3                       0                           0                    0   \n",
       "4                       0                           0                    0   \n",
       "\n",
       "   ...  marital_status_Married-spouse-absent  marital_status_Never-married  \\\n",
       "0  ...                                     0                             1   \n",
       "1  ...                                     0                             0   \n",
       "2  ...                                     0                             0   \n",
       "3  ...                                     0                             0   \n",
       "4  ...                                     0                             1   \n",
       "\n",
       "   marital_status_Separated  marital_status_Widowed  relationship_Husband  \\\n",
       "0                         0                       0                     0   \n",
       "1                         0                       0                     1   \n",
       "2                         0                       0                     0   \n",
       "3                         1                       0                     0   \n",
       "4                         0                       0                     0   \n",
       "\n",
       "   relationship_Not-in-family  relationship_Other-relative  \\\n",
       "0                           1                            0   \n",
       "1                           0                            0   \n",
       "2                           0                            0   \n",
       "3                           0                            0   \n",
       "4                           0                            0   \n",
       "\n",
       "   relationship_Own-child  relationship_Unmarried  relationship_Wife  \n",
       "0                       0                       0                  0  \n",
       "1                       0                       0                  0  \n",
       "2                       0                       1                  0  \n",
       "3                       0                       1                  0  \n",
       "4                       0                       1                  0  \n",
       "\n",
       "[5 rows x 40 columns]"
      ]
     },
     "execution_count": 132,
     "metadata": {},
     "output_type": "execute_result"
    }
   ],
   "source": [
    "X_train.head()"
   ]
  },
  {
   "cell_type": "code",
   "execution_count": null,
   "metadata": {},
   "outputs": [],
   "source": []
  },
  {
   "cell_type": "markdown",
   "metadata": {},
   "source": [
    "### Create Tensorflow Dataset"
   ]
  },
  {
   "cell_type": "code",
   "execution_count": 133,
   "metadata": {},
   "outputs": [],
   "source": [
    "FEATURES = X_train.columns\n",
    "NUMERIC_COLS = X_train.columns[:2]\n",
    "CATEGORICAL_COLS = X_train.columns[2:]"
   ]
  },
  {
   "cell_type": "code",
   "execution_count": 134,
   "metadata": {},
   "outputs": [],
   "source": [
    "def create_dataset(x, y, batch_size, type='TRAIN'):\n",
    "    \n",
    "    #Load Pandas DF into tf dataset\n",
    "    dataset = tf.data.Dataset.from_tensor_slices((dict(x), y.values))\n",
    "    \n",
    "    #Apply shuffle, batch and repeat to the training data. For evaluation we apply batch.\n",
    "    if type == 'TRAIN': \n",
    "        dataset = dataset.shuffle(1000).batch(batch_size).repeat()\n",
    "    else: \n",
    "        dataset = dataset.batch(32)\n",
    "    \n",
    "    # We take advantage of multi-threading; 1=AUTOTUNE\n",
    "    dataset = dataset.prefetch(1)\n",
    "    \n",
    "    return dataset\n",
    " "
   ]
  },
  {
   "cell_type": "code",
   "execution_count": 135,
   "metadata": {},
   "outputs": [],
   "source": [
    "temp_dataset = create_dataset(X_train, y_train, 32, 'TRAIN')"
   ]
  },
  {
   "cell_type": "code",
   "execution_count": 136,
   "metadata": {},
   "outputs": [
    {
     "data": {
      "text/plain": [
       "tensorflow.python.data.ops.dataset_ops.PrefetchDataset"
      ]
     },
     "execution_count": 136,
     "metadata": {},
     "output_type": "execute_result"
    }
   ],
   "source": [
    "type(temp_dataset)"
   ]
  },
  {
   "cell_type": "code",
   "execution_count": 27,
   "metadata": {},
   "outputs": [],
   "source": [
    "def show_batch(dataset):\n",
    "    for data, label in dataset.take(1):\n",
    "        for key, value in data.items():\n",
    "            print(\"{:20s}: {}\".format(key,value.numpy()))"
   ]
  },
  {
   "cell_type": "code",
   "execution_count": null,
   "metadata": {},
   "outputs": [],
   "source": [
    "show_batch(temp_dataset)"
   ]
  },
  {
   "cell_type": "markdown",
   "metadata": {},
   "source": [
    "## Functional API"
   ]
  },
  {
   "cell_type": "code",
   "execution_count": 116,
   "metadata": {},
   "outputs": [
    {
     "name": "stdout",
     "output_type": "stream",
     "text": [
      "Your model has been built....\n"
     ]
    }
   ],
   "source": [
    "def create_dnn_model(INPUTS, NUMERIC_COLS, CATEGORICAL_COLS):\n",
    "    \n",
    "    #Define Input Features\n",
    "    INPUTS = INPUTS\n",
    "    #NUMERIC_INPUTS = NUMERIC_COLS\n",
    "    #CATEGORICAL_INPUTS = CATEGORICAL_COLS\n",
    "    \n",
    "    #Set up feature columns list\n",
    "    feature_columns = []\n",
    "    feature_layer_inputs = {}\n",
    "\n",
    "    #categorical_features = {\n",
    "    #thal = feature_column.categorical_column_with_vocabulary_list(\n",
    "    #  'thal', ['fixed', 'normal', 'reversible'])\n",
    "    #    colname : tf.feature_column.indicator_column(colname)\n",
    "    #    for colname in CATEGORICAL_INPUTS\n",
    "    #}\n",
    "    \n",
    "    #Add numeric columns to list\n",
    "    #numeric_columns = {\n",
    "    #    colname : tf.feature_column.numeric_column(colname)  \n",
    "    #        for colname in INPUTS\n",
    "    #}\n",
    "    \n",
    "    for colname in INPUTS:\n",
    "        feature_columns.append(tf.feature_column.numeric_column(colname))\n",
    "        feature_layer_inputs[colname] = tf.keras.Input(shape=(1,), name=colname) \n",
    "        \n",
    "        #feature_layer_inputs[header] = tf.keras.Input(shape=(1,), name=header)\n",
    "\n",
    "\n",
    "    #feature_columns.append(numeric_columns)    \n",
    "    \n",
    "    #Define all the inputs\n",
    "    #inputs = {\n",
    "    #    colname : tf.keras.layers.Input(name=colname, shape=(1,), dtype=tf.float32)  \n",
    "    #        for colname in INPUTS\n",
    "    #}\n",
    "    \n",
    "    feature_layer = tf.keras.layers.DenseFeatures(feature_columns)\n",
    "    dnn_input = feature_layer(feature_layer_inputs)\n",
    "        \n",
    "    #Inputs to model\n",
    "    #dnn_input = tf.keras.layers.DenseFeatures(feature_columns[0].values())(inputs)\n",
    "    \n",
    "    #Layer One\n",
    "    h1 = tf.keras.layers.Dense(32, activation='relu', name='h1')(dnn_input)\n",
    "    \n",
    "    #Layer Two\n",
    "    h2 = tf.keras.layers.Dense(8, activation='relu', name='h2')(h1)\n",
    "    \n",
    "    #Model Output\n",
    "    output = tf.keras.layers.Dense(1, activation='sigmoid', name='output')(h2)\n",
    "    \n",
    "    model = keras.Model(feature_layer_inputs, output)\n",
    "    #model = keras.Model(inputs=[v for v in feature_layer_inputs.values()], outputs=output)\n",
    "    \n",
    "    model.compile(optimizer='adam', loss='binary_crossentropy', metrics=['acc'])\n",
    "\n",
    "    return model\n",
    "\n",
    "func_model = create_dnn_model(FEATURES, NUMERIC_COLS, CATEGORICAL_COLS)\n",
    "print('Your model has been built....')\n"
   ]
  },
  {
   "cell_type": "code",
   "execution_count": 117,
   "metadata": {},
   "outputs": [
    {
     "name": "stdout",
     "output_type": "stream",
     "text": [
      "Model: \"model_9\"\n",
      "__________________________________________________________________________________________________\n",
      "Layer (type)                    Output Shape         Param #     Connected to                     \n",
      "==================================================================================================\n",
      "age (InputLayer)                [(None, 1)]          0                                            \n",
      "__________________________________________________________________________________________________\n",
      "capital_gain (InputLayer)       [(None, 1)]          0                                            \n",
      "__________________________________________________________________________________________________\n",
      "education_num (InputLayer)      [(None, 1)]          0                                            \n",
      "__________________________________________________________________________________________________\n",
      "gender_Female (InputLayer)      [(None, 1)]          0                                            \n",
      "__________________________________________________________________________________________________\n",
      "gender_Male (InputLayer)        [(None, 1)]          0                                            \n",
      "__________________________________________________________________________________________________\n",
      "marital_status_Divorced (InputL [(None, 1)]          0                                            \n",
      "__________________________________________________________________________________________________\n",
      "marital_status_Married-AF-spous [(None, 1)]          0                                            \n",
      "__________________________________________________________________________________________________\n",
      "marital_status_Married-civ-spou [(None, 1)]          0                                            \n",
      "__________________________________________________________________________________________________\n",
      "marital_status_Married-spouse-a [(None, 1)]          0                                            \n",
      "__________________________________________________________________________________________________\n",
      "marital_status_Never-married (I [(None, 1)]          0                                            \n",
      "__________________________________________________________________________________________________\n",
      "marital_status_Separated (Input [(None, 1)]          0                                            \n",
      "__________________________________________________________________________________________________\n",
      "marital_status_Widowed (InputLa [(None, 1)]          0                                            \n",
      "__________________________________________________________________________________________________\n",
      "occupation_Adm-clerical (InputL [(None, 1)]          0                                            \n",
      "__________________________________________________________________________________________________\n",
      "occupation_Armed-Forces (InputL [(None, 1)]          0                                            \n",
      "__________________________________________________________________________________________________\n",
      "occupation_Craft-repair (InputL [(None, 1)]          0                                            \n",
      "__________________________________________________________________________________________________\n",
      "occupation_Exec-managerial (Inp [(None, 1)]          0                                            \n",
      "__________________________________________________________________________________________________\n",
      "occupation_Farming-fishing (Inp [(None, 1)]          0                                            \n",
      "__________________________________________________________________________________________________\n",
      "occupation_Handlers-cleaners (I [(None, 1)]          0                                            \n",
      "__________________________________________________________________________________________________\n",
      "occupation_Machine-op-inspct (I [(None, 1)]          0                                            \n",
      "__________________________________________________________________________________________________\n",
      "occupation_Other-service (Input [(None, 1)]          0                                            \n",
      "__________________________________________________________________________________________________\n",
      "occupation_Priv-house-serv (Inp [(None, 1)]          0                                            \n",
      "__________________________________________________________________________________________________\n",
      "occupation_Prof-specialty (Inpu [(None, 1)]          0                                            \n",
      "__________________________________________________________________________________________________\n",
      "occupation_Protective-serv (Inp [(None, 1)]          0                                            \n",
      "__________________________________________________________________________________________________\n",
      "occupation_Sales (InputLayer)   [(None, 1)]          0                                            \n",
      "__________________________________________________________________________________________________\n",
      "occupation_Tech-support (InputL [(None, 1)]          0                                            \n",
      "__________________________________________________________________________________________________\n",
      "occupation_Transport-moving (In [(None, 1)]          0                                            \n",
      "__________________________________________________________________________________________________\n",
      "relationship_Husband (InputLaye [(None, 1)]          0                                            \n",
      "__________________________________________________________________________________________________\n",
      "relationship_Not-in-family (Inp [(None, 1)]          0                                            \n",
      "__________________________________________________________________________________________________\n",
      "relationship_Other-relative (In [(None, 1)]          0                                            \n",
      "__________________________________________________________________________________________________\n",
      "relationship_Own-child (InputLa [(None, 1)]          0                                            \n",
      "__________________________________________________________________________________________________\n",
      "relationship_Unmarried (InputLa [(None, 1)]          0                                            \n",
      "__________________________________________________________________________________________________\n",
      "relationship_Wife (InputLayer)  [(None, 1)]          0                                            \n",
      "__________________________________________________________________________________________________\n",
      "workclass_Federal-gov (InputLay [(None, 1)]          0                                            \n",
      "__________________________________________________________________________________________________\n",
      "workclass_Local-gov (InputLayer [(None, 1)]          0                                            \n",
      "__________________________________________________________________________________________________\n",
      "workclass_Never-worked (InputLa [(None, 1)]          0                                            \n",
      "__________________________________________________________________________________________________\n",
      "workclass_Private (InputLayer)  [(None, 1)]          0                                            \n",
      "__________________________________________________________________________________________________\n",
      "workclass_Self-emp-inc (InputLa [(None, 1)]          0                                            \n",
      "__________________________________________________________________________________________________\n",
      "workclass_Self-emp-not-inc (Inp [(None, 1)]          0                                            \n",
      "__________________________________________________________________________________________________\n",
      "workclass_State-gov (InputLayer [(None, 1)]          0                                            \n",
      "__________________________________________________________________________________________________\n",
      "workclass_Without-pay (InputLay [(None, 1)]          0                                            \n",
      "__________________________________________________________________________________________________\n",
      "dense_features_21 (DenseFeature (None, 40)           0           age[0][0]                        \n",
      "                                                                 capital_gain[0][0]               \n",
      "                                                                 education_num[0][0]              \n",
      "                                                                 gender_Female[0][0]              \n",
      "                                                                 gender_Male[0][0]                \n",
      "                                                                 marital_status_Divorced[0][0]    \n",
      "                                                                 marital_status_Married-AF-spouse[\n",
      "                                                                 marital_status_Married-civ-spouse\n",
      "                                                                 marital_status_Married-spouse-abs\n",
      "                                                                 marital_status_Never-married[0][0\n",
      "                                                                 marital_status_Separated[0][0]   \n",
      "                                                                 marital_status_Widowed[0][0]     \n",
      "                                                                 occupation_Adm-clerical[0][0]    \n",
      "                                                                 occupation_Armed-Forces[0][0]    \n",
      "                                                                 occupation_Craft-repair[0][0]    \n",
      "                                                                 occupation_Exec-managerial[0][0] \n",
      "                                                                 occupation_Farming-fishing[0][0] \n",
      "                                                                 occupation_Handlers-cleaners[0][0\n",
      "                                                                 occupation_Machine-op-inspct[0][0\n",
      "                                                                 occupation_Other-service[0][0]   \n",
      "                                                                 occupation_Priv-house-serv[0][0] \n",
      "                                                                 occupation_Prof-specialty[0][0]  \n",
      "                                                                 occupation_Protective-serv[0][0] \n",
      "                                                                 occupation_Sales[0][0]           \n",
      "                                                                 occupation_Tech-support[0][0]    \n",
      "                                                                 occupation_Transport-moving[0][0]\n",
      "                                                                 relationship_Husband[0][0]       \n",
      "                                                                 relationship_Not-in-family[0][0] \n",
      "                                                                 relationship_Other-relative[0][0]\n",
      "                                                                 relationship_Own-child[0][0]     \n",
      "                                                                 relationship_Unmarried[0][0]     \n",
      "                                                                 relationship_Wife[0][0]          \n",
      "                                                                 workclass_Federal-gov[0][0]      \n",
      "                                                                 workclass_Local-gov[0][0]        \n",
      "                                                                 workclass_Never-worked[0][0]     \n",
      "                                                                 workclass_Private[0][0]          \n",
      "                                                                 workclass_Self-emp-inc[0][0]     \n",
      "                                                                 workclass_Self-emp-not-inc[0][0] \n",
      "                                                                 workclass_State-gov[0][0]        \n",
      "                                                                 workclass_Without-pay[0][0]      \n",
      "__________________________________________________________________________________________________\n",
      "h1 (Dense)                      (None, 32)           1312        dense_features_21[0][0]          \n",
      "__________________________________________________________________________________________________\n",
      "h2 (Dense)                      (None, 8)            264         h1[0][0]                         \n",
      "__________________________________________________________________________________________________\n",
      "output (Dense)                  (None, 1)            9           h2[0][0]                         \n",
      "==================================================================================================\n",
      "Total params: 1,585\n",
      "Trainable params: 1,585\n",
      "Non-trainable params: 0\n",
      "__________________________________________________________________________________________________\n"
     ]
    }
   ],
   "source": [
    "func_model.summary()"
   ]
  },
  {
   "cell_type": "markdown",
   "metadata": {},
   "source": [
    "## Input Parameters"
   ]
  },
  {
   "cell_type": "code",
   "execution_count": 118,
   "metadata": {},
   "outputs": [],
   "source": [
    "TRAIN_BATCH_SIZE = 32\n",
    "NUM_TRAIN_EXAMPLES = len(X_train) # training dataset repeats, so it will wrap around\n",
    "EPOCHS = 5  # how many times to evaluate\n",
    "NUM_EVAL_EXAMPLES = 100 # enough to get a reasonable sample, but not so much that it slows down"
   ]
  },
  {
   "cell_type": "markdown",
   "metadata": {},
   "source": [
    "## Train Model"
   ]
  },
  {
   "cell_type": "code",
   "execution_count": 119,
   "metadata": {},
   "outputs": [
    {
     "name": "stdout",
     "output_type": "stream",
     "text": [
      "Epoch 1/5\n",
      "122/122 [==============================] - 3s 23ms/step - loss: 0.5930 - acc: 0.6721 - val_loss: 0.4589 - val_acc: 0.7678\n",
      "Epoch 2/5\n",
      "122/122 [==============================] - 2s 13ms/step - loss: 0.4274 - acc: 0.8007 - val_loss: 0.3910 - val_acc: 0.8166\n",
      "Epoch 3/5\n",
      "122/122 [==============================] - 2s 13ms/step - loss: 0.3879 - acc: 0.8194 - val_loss: 0.3796 - val_acc: 0.8169\n",
      "Epoch 4/5\n",
      "122/122 [==============================] - 2s 13ms/step - loss: 0.3749 - acc: 0.8225 - val_loss: 0.3718 - val_acc: 0.8200\n",
      "Epoch 5/5\n",
      "122/122 [==============================] - 2s 13ms/step - loss: 0.3855 - acc: 0.8171 - val_loss: 0.3688 - val_acc: 0.8219\n"
     ]
    }
   ],
   "source": [
    "train_dataset = create_dataset(X_train, y_train, TRAIN_BATCH_SIZE, 'TRAIN')\n",
    "eval_dataset = create_dataset(x_val, y_val, TRAIN_BATCH_SIZE, 'EVAL').take(NUM_EVAL_EXAMPLES)\n",
    "\n",
    "steps_per_epoch = NUM_TRAIN_EXAMPLES // (TRAIN_BATCH_SIZE * EPOCHS)\n",
    "\n",
    "\n",
    "history = func_model.fit(train_dataset,\n",
    "     epochs= EPOCHS,\n",
    "     verbose=1, \n",
    "     steps_per_epoch=steps_per_epoch, \n",
    "     validation_data=eval_dataset,\n",
    "         )"
   ]
  },
  {
   "cell_type": "markdown",
   "metadata": {},
   "source": [
    "## Evaluate Model"
   ]
  },
  {
   "cell_type": "code",
   "execution_count": 120,
   "metadata": {},
   "outputs": [
    {
     "name": "stdout",
     "output_type": "stream",
     "text": [
      "20/20 [==============================] - 0s 7ms/step - loss: 0.3534 - acc: 0.8328\n"
     ]
    }
   ],
   "source": [
    "test_dataset = create_dataset(X_test, y_test, TRAIN_BATCH_SIZE, 'TEST')\n",
    "\n",
    "test_loss, test_acc = func_model.evaluate(test_dataset, steps=20)"
   ]
  },
  {
   "cell_type": "markdown",
   "metadata": {},
   "source": [
    "## Visualize Training"
   ]
  },
  {
   "cell_type": "code",
   "execution_count": 121,
   "metadata": {},
   "outputs": [],
   "source": [
    "import matplotlib.pyplot as plt"
   ]
  },
  {
   "cell_type": "code",
   "execution_count": 122,
   "metadata": {},
   "outputs": [
    {
     "data": {
      "image/png": "[encoded data removed]",
      "text/plain": [
       "<Figure size 432x288 with 1 Axes>"
      ]
     },
     "metadata": {
      "needs_background": "light"
     },
     "output_type": "display_data"
    }
   ],
   "source": [
    "plt.plot(history.history['acc'])\n",
    "plt.plot(history.history['val_acc'])\n",
    "plt.title('Model Accuracy')\n",
    "plt.ylabel('accuracy')\n",
    "plt.xlabel('epoch')\n",
    "plt.legend(['train', 'val'], loc='upper left')\n",
    "plt.show()"
   ]
  },
  {
   "cell_type": "markdown",
   "metadata": {},
   "source": [
    "# Export SavedModel"
   ]
  },
  {
   "cell_type": "code",
   "execution_count": 123,
   "metadata": {},
   "outputs": [],
   "source": [
    "args = {'output_dir' : 'gs://crazy-hippo-01/ai-platform/ml_engine_training'}"
   ]
  },
  {
   "cell_type": "code",
   "execution_count": null,
   "metadata": {},
   "outputs": [],
   "source": [
    "import shutil, os, datetime\n",
    "args['output_dir'] = os.path.join(args['output_dir'], 'export/savedmodel')\n",
    "if args['output_dir'][:5] != 'gs://':\n",
    "    shutil.rmtree(args['output_dir'], ignore_errors=True)\n",
    "EXPORT_PATH = os.path.join(args['output_dir'], datetime.datetime.now().strftime('%Y%m%d%H%M%S'))\n",
    "tf.saved_model.save(func_model, EXPORT_PATH)"
   ]
  },
  {
   "cell_type": "code",
   "execution_count": 124,
   "metadata": {},
   "outputs": [
    {
     "name": "stdout",
     "output_type": "stream",
     "text": [
      "INFO:tensorflow:Assets written to: gs://crazy-hippo-01/ai-platform/ml_engine_training/export/savedmodel/assets\n"
     ]
    },
    {
     "ename": "AttributeError",
     "evalue": "'NoneType' object has no attribute 'get_config'",
     "output_type": "error",
     "traceback": [
      "\u001b[0;31m---------------------------------------------------------------------------\u001b[0m",
      "\u001b[0;31mAttributeError\u001b[0m                            Traceback (most recent call last)",
      "\u001b[0;32m<ipython-input-124-f5607a3d84ac>\u001b[0m in \u001b[0;36m<module>\u001b[0;34m\u001b[0m\n\u001b[1;32m      1\u001b[0m \u001b[0msave_path\u001b[0m \u001b[0;34m=\u001b[0m \u001b[0mos\u001b[0m\u001b[0;34m.\u001b[0m\u001b[0mpath\u001b[0m\u001b[0;34m.\u001b[0m\u001b[0mjoin\u001b[0m\u001b[0;34m(\u001b[0m\u001b[0margs\u001b[0m\u001b[0;34m[\u001b[0m\u001b[0;34m'output_dir'\u001b[0m\u001b[0;34m]\u001b[0m\u001b[0;34m,\u001b[0m\u001b[0;34m'export/savedmodel'\u001b[0m\u001b[0;34m)\u001b[0m\u001b[0;34m\u001b[0m\u001b[0m\n\u001b[0;32m----> 2\u001b[0;31m \u001b[0mfunc_model\u001b[0m\u001b[0;34m.\u001b[0m\u001b[0msave\u001b[0m\u001b[0;34m(\u001b[0m\u001b[0msave_path\u001b[0m\u001b[0;34m)\u001b[0m\u001b[0;34m\u001b[0m\u001b[0m\n\u001b[0m",
      "\u001b[0;32m~/.local/lib/python3.5/site-packages/tensorflow/python/keras/engine/network.py\u001b[0m in \u001b[0;36msave\u001b[0;34m(self, filepath, overwrite, include_optimizer, save_format)\u001b[0m\n\u001b[1;32m   1211\u001b[0m     \u001b[0;31m`\u001b[0m\u001b[0;31m`\u001b[0m\u001b[0;31m`\u001b[0m\u001b[0;34m\u001b[0m\u001b[0m\n\u001b[1;32m   1212\u001b[0m     \"\"\"\n\u001b[0;32m-> 1213\u001b[0;31m     \u001b[0msaving\u001b[0m\u001b[0;34m.\u001b[0m\u001b[0msave_model\u001b[0m\u001b[0;34m(\u001b[0m\u001b[0mself\u001b[0m\u001b[0;34m,\u001b[0m \u001b[0mfilepath\u001b[0m\u001b[0;34m,\u001b[0m \u001b[0moverwrite\u001b[0m\u001b[0;34m,\u001b[0m \u001b[0minclude_optimizer\u001b[0m\u001b[0;34m,\u001b[0m \u001b[0msave_format\u001b[0m\u001b[0;34m)\u001b[0m\u001b[0;34m\u001b[0m\u001b[0m\n\u001b[0m\u001b[1;32m   1214\u001b[0m \u001b[0;34m\u001b[0m\u001b[0m\n\u001b[1;32m   1215\u001b[0m   \u001b[0;32mdef\u001b[0m \u001b[0msave_weights\u001b[0m\u001b[0;34m(\u001b[0m\u001b[0mself\u001b[0m\u001b[0;34m,\u001b[0m \u001b[0mfilepath\u001b[0m\u001b[0;34m,\u001b[0m \u001b[0moverwrite\u001b[0m\u001b[0;34m=\u001b[0m\u001b[0;32mTrue\u001b[0m\u001b[0;34m,\u001b[0m \u001b[0msave_format\u001b[0m\u001b[0;34m=\u001b[0m\u001b[0;32mNone\u001b[0m\u001b[0;34m)\u001b[0m\u001b[0;34m:\u001b[0m\u001b[0;34m\u001b[0m\u001b[0m\n",
      "\u001b[0;32m~/.local/lib/python3.5/site-packages/tensorflow/python/keras/saving/save.py\u001b[0m in \u001b[0;36msave_model\u001b[0;34m(model, filepath, overwrite, include_optimizer, save_format)\u001b[0m\n\u001b[1;32m    104\u001b[0m         model, filepath, overwrite, include_optimizer)\n\u001b[1;32m    105\u001b[0m   \u001b[0;32melse\u001b[0m\u001b[0;34m:\u001b[0m\u001b[0;34m\u001b[0m\u001b[0m\n\u001b[0;32m--> 106\u001b[0;31m     \u001b[0msaved_model\u001b[0m\u001b[0;34m.\u001b[0m\u001b[0msave\u001b[0m\u001b[0;34m(\u001b[0m\u001b[0mmodel\u001b[0m\u001b[0;34m,\u001b[0m \u001b[0mfilepath\u001b[0m\u001b[0;34m,\u001b[0m \u001b[0moverwrite\u001b[0m\u001b[0;34m,\u001b[0m \u001b[0minclude_optimizer\u001b[0m\u001b[0;34m)\u001b[0m\u001b[0;34m\u001b[0m\u001b[0m\n\u001b[0m\u001b[1;32m    107\u001b[0m \u001b[0;34m\u001b[0m\u001b[0m\n\u001b[1;32m    108\u001b[0m \u001b[0;34m\u001b[0m\u001b[0m\n",
      "\u001b[0;32m~/.local/lib/python3.5/site-packages/tensorflow/python/keras/saving/saved_model.py\u001b[0m in \u001b[0;36msave\u001b[0;34m(model, filepath, overwrite, include_optimizer)\u001b[0m\n\u001b[1;32m   1343\u001b[0m     \u001b[0mmodel\u001b[0m\u001b[0;34m.\u001b[0m\u001b[0moptimizer\u001b[0m \u001b[0;34m=\u001b[0m \u001b[0;32mNone\u001b[0m\u001b[0;34m\u001b[0m\u001b[0m\n\u001b[1;32m   1344\u001b[0m \u001b[0;34m\u001b[0m\u001b[0m\n\u001b[0;32m-> 1345\u001b[0;31m   \u001b[0msave_lib\u001b[0m\u001b[0;34m.\u001b[0m\u001b[0msave\u001b[0m\u001b[0;34m(\u001b[0m\u001b[0mmodel\u001b[0m\u001b[0;34m,\u001b[0m \u001b[0mfilepath\u001b[0m\u001b[0;34m)\u001b[0m\u001b[0;34m\u001b[0m\u001b[0m\n\u001b[0m\u001b[1;32m   1346\u001b[0m \u001b[0;34m\u001b[0m\u001b[0m\n\u001b[1;32m   1347\u001b[0m   \u001b[0;32mif\u001b[0m \u001b[0;32mnot\u001b[0m \u001b[0minclude_optimizer\u001b[0m\u001b[0;34m:\u001b[0m\u001b[0;34m\u001b[0m\u001b[0m\n",
      "\u001b[0;32m~/.local/lib/python3.5/site-packages/tensorflow/python/saved_model/save.py\u001b[0m in \u001b[0;36msave\u001b[0;34m(obj, export_dir, signatures)\u001b[0m\n\u001b[1;32m    847\u001b[0m       compat.as_bytes(constants.SAVED_MODEL_FILENAME_PB))\n\u001b[1;32m    848\u001b[0m   object_graph_proto = _serialize_object_graph(\n\u001b[0;32m--> 849\u001b[0;31m       saveable_view, asset_info.asset_index)\n\u001b[0m\u001b[1;32m    850\u001b[0m   \u001b[0mmeta_graph_def\u001b[0m\u001b[0;34m.\u001b[0m\u001b[0mobject_graph_def\u001b[0m\u001b[0;34m.\u001b[0m\u001b[0mCopyFrom\u001b[0m\u001b[0;34m(\u001b[0m\u001b[0mobject_graph_proto\u001b[0m\u001b[0;34m)\u001b[0m\u001b[0;34m\u001b[0m\u001b[0m\n\u001b[1;32m    851\u001b[0m   \u001b[0mfile_io\u001b[0m\u001b[0;34m.\u001b[0m\u001b[0mwrite_string_to_file\u001b[0m\u001b[0;34m(\u001b[0m\u001b[0mpath\u001b[0m\u001b[0;34m,\u001b[0m \u001b[0msaved_model\u001b[0m\u001b[0;34m.\u001b[0m\u001b[0mSerializeToString\u001b[0m\u001b[0;34m(\u001b[0m\u001b[0;34m)\u001b[0m\u001b[0;34m)\u001b[0m\u001b[0;34m\u001b[0m\u001b[0m\n",
      "\u001b[0;32m~/.local/lib/python3.5/site-packages/tensorflow/python/saved_model/save.py\u001b[0m in \u001b[0;36m_serialize_object_graph\u001b[0;34m(saveable_view, asset_file_def_index)\u001b[0m\n\u001b[1;32m    602\u001b[0m \u001b[0;34m\u001b[0m\u001b[0m\n\u001b[1;32m    603\u001b[0m   \u001b[0;32mfor\u001b[0m \u001b[0mobj\u001b[0m\u001b[0;34m,\u001b[0m \u001b[0mobj_proto\u001b[0m \u001b[0;32min\u001b[0m \u001b[0mzip\u001b[0m\u001b[0;34m(\u001b[0m\u001b[0msaveable_view\u001b[0m\u001b[0;34m.\u001b[0m\u001b[0mnodes\u001b[0m\u001b[0;34m,\u001b[0m \u001b[0mproto\u001b[0m\u001b[0;34m.\u001b[0m\u001b[0mnodes\u001b[0m\u001b[0;34m)\u001b[0m\u001b[0;34m:\u001b[0m\u001b[0;34m\u001b[0m\u001b[0m\n\u001b[0;32m--> 604\u001b[0;31m     \u001b[0m_write_object_proto\u001b[0m\u001b[0;34m(\u001b[0m\u001b[0mobj\u001b[0m\u001b[0;34m,\u001b[0m \u001b[0mobj_proto\u001b[0m\u001b[0;34m,\u001b[0m \u001b[0masset_file_def_index\u001b[0m\u001b[0;34m)\u001b[0m\u001b[0;34m\u001b[0m\u001b[0m\n\u001b[0m\u001b[1;32m    605\u001b[0m   \u001b[0;32mreturn\u001b[0m \u001b[0mproto\u001b[0m\u001b[0;34m\u001b[0m\u001b[0m\n\u001b[1;32m    606\u001b[0m \u001b[0;34m\u001b[0m\u001b[0m\n",
      "\u001b[0;32m~/.local/lib/python3.5/site-packages/tensorflow/python/saved_model/save.py\u001b[0m in \u001b[0;36m_write_object_proto\u001b[0;34m(obj, proto, asset_file_def_index)\u001b[0m\n\u001b[1;32m    641\u001b[0m           version=versions_pb2.VersionDef(\n\u001b[1;32m    642\u001b[0m               producer=1, min_consumer=1, bad_consumers=[]),\n\u001b[0;32m--> 643\u001b[0;31m           metadata=obj._tracking_metadata)\n\u001b[0m\u001b[1;32m    644\u001b[0m       \u001b[0;31m# pylint:enable=protected-access\u001b[0m\u001b[0;34m\u001b[0m\u001b[0;34m\u001b[0m\u001b[0m\n\u001b[1;32m    645\u001b[0m     \u001b[0mproto\u001b[0m\u001b[0;34m.\u001b[0m\u001b[0muser_object\u001b[0m\u001b[0;34m.\u001b[0m\u001b[0mCopyFrom\u001b[0m\u001b[0;34m(\u001b[0m\u001b[0mregistered_type_proto\u001b[0m\u001b[0;34m)\u001b[0m\u001b[0;34m\u001b[0m\u001b[0m\n",
      "\u001b[0;32m~/.local/lib/python3.5/site-packages/tensorflow/python/keras/engine/training.py\u001b[0m in \u001b[0;36m_tracking_metadata\u001b[0;34m(self)\u001b[0m\n\u001b[1;32m   2703\u001b[0m   \u001b[0;34m@\u001b[0m\u001b[0mproperty\u001b[0m\u001b[0;34m\u001b[0m\u001b[0m\n\u001b[1;32m   2704\u001b[0m   \u001b[0;32mdef\u001b[0m \u001b[0m_tracking_metadata\u001b[0m\u001b[0;34m(\u001b[0m\u001b[0mself\u001b[0m\u001b[0;34m)\u001b[0m\u001b[0;34m:\u001b[0m\u001b[0;34m\u001b[0m\u001b[0m\n\u001b[0;32m-> 2705\u001b[0;31m     \u001b[0mmetadata\u001b[0m \u001b[0;34m=\u001b[0m \u001b[0mjson\u001b[0m\u001b[0;34m.\u001b[0m\u001b[0mloads\u001b[0m\u001b[0;34m(\u001b[0m\u001b[0msuper\u001b[0m\u001b[0;34m(\u001b[0m\u001b[0mModel\u001b[0m\u001b[0;34m,\u001b[0m \u001b[0mself\u001b[0m\u001b[0;34m)\u001b[0m\u001b[0;34m.\u001b[0m\u001b[0m_tracking_metadata\u001b[0m\u001b[0;34m)\u001b[0m\u001b[0;34m\u001b[0m\u001b[0m\n\u001b[0m\u001b[1;32m   2706\u001b[0m     metadata.update(saving_utils.model_metadata(\n\u001b[1;32m   2707\u001b[0m         self, include_optimizer=True, require_config=False))\n",
      "\u001b[0;32m~/.local/lib/python3.5/site-packages/tensorflow/python/keras/engine/base_layer.py\u001b[0m in \u001b[0;36m_tracking_metadata\u001b[0;34m(self)\u001b[0m\n\u001b[1;32m   2185\u001b[0m     \u001b[0;32mif\u001b[0m \u001b[0mself\u001b[0m\u001b[0;34m.\u001b[0m\u001b[0minput_spec\u001b[0m \u001b[0;32mis\u001b[0m \u001b[0;32mnot\u001b[0m \u001b[0;32mNone\u001b[0m\u001b[0;34m:\u001b[0m\u001b[0;34m\u001b[0m\u001b[0m\n\u001b[1;32m   2186\u001b[0m       metadata['input_spec'] = nest.map_structure(\n\u001b[0;32m-> 2187\u001b[0;31m           lambda x: x.get_config(), self.input_spec)\n\u001b[0m\u001b[1;32m   2188\u001b[0m     \u001b[0;32melse\u001b[0m\u001b[0;34m:\u001b[0m\u001b[0;34m\u001b[0m\u001b[0m\n\u001b[1;32m   2189\u001b[0m       \u001b[0mmetadata\u001b[0m\u001b[0;34m[\u001b[0m\u001b[0;34m'input_spec'\u001b[0m\u001b[0;34m]\u001b[0m \u001b[0;34m=\u001b[0m \u001b[0;32mNone\u001b[0m\u001b[0;34m\u001b[0m\u001b[0m\n",
      "\u001b[0;32m~/.local/lib/python3.5/site-packages/tensorflow/python/util/nest.py\u001b[0m in \u001b[0;36mmap_structure\u001b[0;34m(func, *structure, **kwargs)\u001b[0m\n\u001b[1;32m    513\u001b[0m \u001b[0;34m\u001b[0m\u001b[0m\n\u001b[1;32m    514\u001b[0m   return pack_sequence_as(\n\u001b[0;32m--> 515\u001b[0;31m       \u001b[0mstructure\u001b[0m\u001b[0;34m[\u001b[0m\u001b[0;36m0\u001b[0m\u001b[0;34m]\u001b[0m\u001b[0;34m,\u001b[0m \u001b[0;34m[\u001b[0m\u001b[0mfunc\u001b[0m\u001b[0;34m(\u001b[0m\u001b[0;34m*\u001b[0m\u001b[0mx\u001b[0m\u001b[0;34m)\u001b[0m \u001b[0;32mfor\u001b[0m \u001b[0mx\u001b[0m \u001b[0;32min\u001b[0m \u001b[0mentries\u001b[0m\u001b[0;34m]\u001b[0m\u001b[0;34m,\u001b[0m\u001b[0;34m\u001b[0m\u001b[0m\n\u001b[0m\u001b[1;32m    516\u001b[0m       expand_composites=expand_composites)\n\u001b[1;32m    517\u001b[0m \u001b[0;34m\u001b[0m\u001b[0m\n",
      "\u001b[0;32m~/.local/lib/python3.5/site-packages/tensorflow/python/util/nest.py\u001b[0m in \u001b[0;36m<listcomp>\u001b[0;34m(.0)\u001b[0m\n\u001b[1;32m    513\u001b[0m \u001b[0;34m\u001b[0m\u001b[0m\n\u001b[1;32m    514\u001b[0m   return pack_sequence_as(\n\u001b[0;32m--> 515\u001b[0;31m       \u001b[0mstructure\u001b[0m\u001b[0;34m[\u001b[0m\u001b[0;36m0\u001b[0m\u001b[0;34m]\u001b[0m\u001b[0;34m,\u001b[0m \u001b[0;34m[\u001b[0m\u001b[0mfunc\u001b[0m\u001b[0;34m(\u001b[0m\u001b[0;34m*\u001b[0m\u001b[0mx\u001b[0m\u001b[0;34m)\u001b[0m \u001b[0;32mfor\u001b[0m \u001b[0mx\u001b[0m \u001b[0;32min\u001b[0m \u001b[0mentries\u001b[0m\u001b[0;34m]\u001b[0m\u001b[0;34m,\u001b[0m\u001b[0;34m\u001b[0m\u001b[0m\n\u001b[0m\u001b[1;32m    516\u001b[0m       expand_composites=expand_composites)\n\u001b[1;32m    517\u001b[0m \u001b[0;34m\u001b[0m\u001b[0m\n",
      "\u001b[0;32m~/.local/lib/python3.5/site-packages/tensorflow/python/keras/engine/base_layer.py\u001b[0m in \u001b[0;36m<lambda>\u001b[0;34m(x)\u001b[0m\n\u001b[1;32m   2185\u001b[0m     \u001b[0;32mif\u001b[0m \u001b[0mself\u001b[0m\u001b[0;34m.\u001b[0m\u001b[0minput_spec\u001b[0m \u001b[0;32mis\u001b[0m \u001b[0;32mnot\u001b[0m \u001b[0;32mNone\u001b[0m\u001b[0;34m:\u001b[0m\u001b[0;34m\u001b[0m\u001b[0m\n\u001b[1;32m   2186\u001b[0m       metadata['input_spec'] = nest.map_structure(\n\u001b[0;32m-> 2187\u001b[0;31m           lambda x: x.get_config(), self.input_spec)\n\u001b[0m\u001b[1;32m   2188\u001b[0m     \u001b[0;32melse\u001b[0m\u001b[0;34m:\u001b[0m\u001b[0;34m\u001b[0m\u001b[0m\n\u001b[1;32m   2189\u001b[0m       \u001b[0mmetadata\u001b[0m\u001b[0;34m[\u001b[0m\u001b[0;34m'input_spec'\u001b[0m\u001b[0;34m]\u001b[0m \u001b[0;34m=\u001b[0m \u001b[0;32mNone\u001b[0m\u001b[0;34m\u001b[0m\u001b[0m\n",
      "\u001b[0;31mAttributeError\u001b[0m: 'NoneType' object has no attribute 'get_config'"
     ]
    }
   ],
   "source": [
    "save_path = os.path.join(args['output_dir'],'export/savedmodel')\n",
    "func_model.save(save_path)"
   ]
  },
  {
   "cell_type": "code",
   "execution_count": null,
   "metadata": {},
   "outputs": [],
   "source": []
  }
 ],
 "metadata": {
  "environment": {
   "name": "tf2-gpu.2-3.mnightly-2021-01-20-debian-10-test",
   "type": "gcloud",
   "uri": "gcr.io/deeplearning-platform-release/tf2-gpu.2-3:mnightly-2021-01-20-debian-10-test"
  },
  "kernelspec": {
   "display_name": "Python 3",
   "language": "python",
   "name": "python3"
  },
  "language_info": {
   "codemirror_mode": {
    "name": "ipython",
    "version": 3
   },
   "file_extension": ".py",
   "mimetype": "text/x-python",
   "name": "python",
   "nbconvert_exporter": "python",
   "pygments_lexer": "ipython3",
   "version": "3.7.9"
  }
 },
 "nbformat": 4,
 "nbformat_minor": 4
}
