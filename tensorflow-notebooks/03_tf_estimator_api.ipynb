{
 "cells": [
  {
   "cell_type": "markdown",
   "metadata": {},
   "source": [
    "# Tensorflow Estimator API "
   ]
  },
  {
   "cell_type": "markdown",
   "metadata": {},
   "source": [
    "### Introduction"
   ]
  },
  {
   "cell_type": "markdown",
   "metadata": {},
   "source": [
    "In this project I show how to use the Tensorflow `sequential API within TF 2.0`. I will use the US Census Dataset and create a binary classification model. The data used has already been preprocessed, normalized and one-hot encoded. Data is stored within a Google Cloud Storage Bucket ready to be loaded into pandas dataframe or tensorflow dataset. "
   ]
  },
  {
   "cell_type": "markdown",
   "metadata": {},
   "source": [
    "### Import Libraries"
   ]
  },
  {
   "cell_type": "code",
   "execution_count": 35,
   "metadata": {},
   "outputs": [],
   "source": [
    "from collections import namedtuple\n",
    "import numpy as np\n",
    "import pandas as pd\n",
    "from sklearn.model_selection import train_test_split\n",
    "from sklearn import preprocessing\n",
    "import datetime\n",
    "import functools"
   ]
  },
  {
   "cell_type": "code",
   "execution_count": 36,
   "metadata": {},
   "outputs": [],
   "source": [
    "import tensorflow as tf\n",
    "from tensorflow import keras\n",
    "from tensorflow.keras import layers\n",
    "from tensorflow import feature_column"
   ]
  },
  {
   "cell_type": "code",
   "execution_count": 37,
   "metadata": {},
   "outputs": [
    {
     "data": {
      "text/plain": [
       "'2.0.0-beta0'"
      ]
     },
     "execution_count": 37,
     "metadata": {},
     "output_type": "execute_result"
    }
   ],
   "source": [
    "tf.__version__"
   ]
  },
  {
   "cell_type": "markdown",
   "metadata": {},
   "source": [
    "### Load Data from Google Cloud Storage"
   ]
  },
  {
   "cell_type": "code",
   "execution_count": 38,
   "metadata": {},
   "outputs": [],
   "source": [
    "#Specify data location\n",
    "x_train_data = 'gs://crazy-hippo-01/dataset/x_train.csv'\n",
    "x_test_data = 'gs://crazy-hippo-01/dataset/x_test.csv'\n",
    "y_train_data = 'gs://crazy-hippo-01/dataset/y_train.csv'\n",
    "y_test_data = 'gs://crazy-hippo-01/dataset/y_test.csv'\n",
    "x_val = 'gs://crazy-hippo-01/dataset/x_val.csv'\n",
    "y_val = 'gs://crazy-hippo-01/dataset/y_val.csv'"
   ]
  },
  {
   "cell_type": "code",
   "execution_count": 39,
   "metadata": {},
   "outputs": [],
   "source": [
    "#Read CSV files into a Pandas Dataframe\n",
    "X_train = pd.read_csv(x_train_data)\n",
    "y_train = pd.read_csv(y_train_data)\n",
    "X_test = pd.read_csv(x_test_data)\n",
    "y_test = pd.read_csv(y_test_data)\n",
    "x_val = pd.read_csv(x_val)\n",
    "y_val = pd.read_csv(y_val)"
   ]
  },
  {
   "cell_type": "markdown",
   "metadata": {},
   "source": [
    "### Create Tensorflow Dataset"
   ]
  },
  {
   "cell_type": "code",
   "execution_count": 40,
   "metadata": {},
   "outputs": [],
   "source": [
    "FEATURES = X_train.columns\n",
    "NUMERIC_COLS = X_train.columns[2:]\n",
    "CATEGORICAL_COLS = X_train.columns[:2]"
   ]
  },
  {
   "cell_type": "code",
   "execution_count": 41,
   "metadata": {},
   "outputs": [],
   "source": [
    "def create_dataset(mode):\n",
    "    \n",
    "    #Specify data location\n",
    "    x_train_data = 'gs://crazy-hippo-01/dataset/x_train.csv'\n",
    "    x_test_data = 'gs://crazy-hippo-01/dataset/x_test.csv'\n",
    "    y_train_data = 'gs://crazy-hippo-01/dataset/y_train.csv'\n",
    "    y_test_data = 'gs://crazy-hippo-01/dataset/y_test.csv'\n",
    "    x_val = 'gs://crazy-hippo-01/dataset/x_val.csv'\n",
    "    y_val = 'gs://crazy-hippo-01/dataset/y_val.csv'\n",
    "    \n",
    "    #Read CSV files into a Pandas Dataframe\n",
    "    X_train = pd.read_csv(x_train_data)\n",
    "    y_train = pd.read_csv(y_train_data)\n",
    "    X_test = pd.read_csv(x_test_data)\n",
    "    y_test = pd.read_csv(y_test_data)\n",
    "    x_val = pd.read_csv(x_val)\n",
    "    y_val = pd.read_csv(y_val)\n",
    "    \n",
    "    #Input Parameters\n",
    "    BATCH_SIZE = 32\n",
    "    \n",
    "    #Apply shuffle, batch and repeat to the training data. For evaluation we apply batch.\n",
    "    if mode == tf.estimator.ModeKeys.TRAIN : \n",
    "        dataset = tf.data.Dataset.from_tensor_slices((dict(X_train), y_train.values))\n",
    "        dataset = dataset.shuffle(1000).batch(BATCH_SIZE).repeat()\n",
    "    else: \n",
    "        dataset = tf.data.Dataset.from_tensor_slices((dict(x_val), y_val.values))\n",
    "        dataset = dataset.batch(32)\n",
    "    \n",
    "    # We take advantage of multi-threading; 1=AUTOTUNE\n",
    "    dataset = dataset.prefetch(1)\n",
    "    \n",
    "    return dataset"
   ]
  },
  {
   "cell_type": "markdown",
   "metadata": {},
   "source": [
    "### Build Model"
   ]
  },
  {
   "cell_type": "code",
   "execution_count": 42,
   "metadata": {},
   "outputs": [
    {
     "name": "stdout",
     "output_type": "stream",
     "text": [
      "INFO:tensorflow:Using default config.\n",
      "INFO:tensorflow:Using config: {'_keep_checkpoint_max': 5, '_service': None, '_save_checkpoints_steps': None, '_device_fn': None, '_experimental_distribute': None, '_num_ps_replicas': 0, '_save_summary_steps': 100, '_is_chief': True, '_protocol': None, '_task_type': 'worker', '_task_id': 0, '_master': '', '_eval_distribute': None, '_train_distribute': None, '_experimental_max_worker_delay_secs': None, '_num_worker_replicas': 1, '_cluster_spec': <tensorflow.python.training.server_lib.ClusterSpec object at 0x7efd307a8f28>, '_save_checkpoints_secs': 600, '_tf_random_seed': None, '_model_dir': 'logs/fit/', '_keep_checkpoint_every_n_hours': 10000, '_session_config': allow_soft_placement: true\n",
      "graph_options {\n",
      "  rewrite_options {\n",
      "    meta_optimizer_iterations: ONE\n",
      "  }\n",
      "}\n",
      ", '_log_step_count_steps': 100, '_global_id_in_cluster': 0, '_evaluation_master': ''}\n",
      "Your model has been built....\n"
     ]
    }
   ],
   "source": [
    "def create_dnn_model(INPUTS, NUMERIC_COLS, CATEGORICAL_COLS):\n",
    "    \n",
    "    feature_columns = []\n",
    "    \n",
    "    # numeric cols\n",
    "    for col in INPUTS:\n",
    "        feature_columns.append(feature_column.numeric_column(col))\n",
    "        \n",
    "    classifier = tf.estimator.DNNClassifier(\n",
    "        feature_columns=feature_columns,\n",
    "        hidden_units=[32, 32],\n",
    "        n_classes=2,\n",
    "        model_dir=\"logs/fit/\"\n",
    "    )   \n",
    "    \n",
    "    return classifier\n",
    "\n",
    "estimator_model = create_dnn_model(FEATURES, NUMERIC_COLS, CATEGORICAL_COLS)\n",
    "\n",
    "print('Your model has been built....')\n",
    "#func_model.summary()        "
   ]
  },
  {
   "cell_type": "markdown",
   "metadata": {},
   "source": [
    "### Train Model"
   ]
  },
  {
   "cell_type": "code",
   "execution_count": 43,
   "metadata": {},
   "outputs": [],
   "source": [
    "log_dir = \"logs/fit/\" + datetime.datetime.now().strftime(\"%Y%m%d-%H%M%S\")\n",
    "tensorboard_callback = tf.keras.callbacks.TensorBoard(log_dir=log_dir, histogram_freq=1)"
   ]
  },
  {
   "cell_type": "code",
   "execution_count": null,
   "metadata": {},
   "outputs": [],
   "source": [
    "history = tf.estimator.train_and_evaluate(\n",
    "    estimator_model,\n",
    "    train_spec=tf.estimator.TrainSpec(input_fn=create_dataset, max_steps=10000),\n",
    "    eval_spec=tf.estimator.EvalSpec(input_fn=create_dataset)\n",
    ")"
   ]
  },
  {
   "cell_type": "markdown",
   "metadata": {},
   "source": [
    "### Evaluate Model"
   ]
  },
  {
   "cell_type": "code",
   "execution_count": 45,
   "metadata": {},
   "outputs": [
    {
     "data": {
      "text/plain": [
       "({'accuracy': 0.788125,\n",
       "  'accuracy_baseline': 0.7640625,\n",
       "  'auc': 0.82552505,\n",
       "  'auc_precision_recall': 0.57387626,\n",
       "  'average_loss': 0.42559308,\n",
       "  'global_step': 10000,\n",
       "  'label/mean': 0.2359375,\n",
       "  'loss': 0.42559308,\n",
       "  'precision': 0.7549669,\n",
       "  'prediction/mean': 0.23787342,\n",
       "  'recall': 0.15099338},\n",
       " [])"
      ]
     },
     "execution_count": 45,
     "metadata": {},
     "output_type": "execute_result"
    }
   ],
   "source": [
    "history"
   ]
  },
  {
   "cell_type": "markdown",
   "metadata": {},
   "source": [
    "### Visualize Training"
   ]
  },
  {
   "cell_type": "code",
   "execution_count": null,
   "metadata": {},
   "outputs": [],
   "source": [
    "!rm -rf ./logs/ "
   ]
  },
  {
   "cell_type": "code",
   "execution_count": 48,
   "metadata": {},
   "outputs": [
    {
     "name": "stdout",
     "output_type": "stream",
     "text": [
      "The tensorboard extension is already loaded. To reload it, use:\n",
      "  %reload_ext tensorboard\n"
     ]
    },
    {
     "data": {
      "text/plain": [
       "Reusing TensorBoard on port 6006 (pid 5027), started 0:00:31 ago. (Use '!kill 5027' to kill it.)"
      ]
     },
     "metadata": {},
     "output_type": "display_data"
    },
    {
     "data": {
      "text/html": [
       "\n",
       "        <iframe\n",
       "            width=\"100%\"\n",
       "            height=\"800\"\n",
       "            src=\"http://localhost:6006\"\n",
       "            frameborder=\"0\"\n",
       "            allowfullscreen\n",
       "        ></iframe>\n",
       "        "
      ],
      "text/plain": [
       "<IPython.lib.display.IFrame at 0x7efd65a63710>"
      ]
     },
     "metadata": {},
     "output_type": "display_data"
    }
   ],
   "source": [
    "%load_ext tensorboard\n",
    "%tensorboard --logdir logs"
   ]
  },
  {
   "cell_type": "code",
   "execution_count": null,
   "metadata": {},
   "outputs": [],
   "source": []
  }
 ],
 "metadata": {
  "environment": {
   "name": "tf2-gpu.2-3.mnightly-2021-01-20-debian-10-test",
   "type": "gcloud",
   "uri": "gcr.io/deeplearning-platform-release/tf2-gpu.2-3:mnightly-2021-01-20-debian-10-test"
  },
  "kernelspec": {
   "display_name": "Python 3",
   "language": "python",
   "name": "python3"
  },
  "language_info": {
   "codemirror_mode": {
    "name": "ipython",
    "version": 3
   },
   "file_extension": ".py",
   "mimetype": "text/x-python",
   "name": "python",
   "nbconvert_exporter": "python",
   "pygments_lexer": "ipython3",
   "version": "3.7.9"
  }
 },
 "nbformat": 4,
 "nbformat_minor": 4
}
