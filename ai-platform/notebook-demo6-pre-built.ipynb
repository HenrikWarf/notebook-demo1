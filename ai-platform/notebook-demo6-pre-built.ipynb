{
 "cells": [
  {
   "cell_type": "markdown",
   "id": "owned-overhead",
   "metadata": {},
   "source": [
    "# Training with Pre-built Algorithms"
   ]
  },
  {
   "cell_type": "markdown",
   "id": "changing-album",
   "metadata": {},
   "source": [
    "#### Import libraries and set some parameters"
   ]
  },
  {
   "cell_type": "code",
   "execution_count": 9,
   "id": "constant-glucose",
   "metadata": {},
   "outputs": [],
   "source": [
    "import os\n",
    "import numpy as np\n",
    "PROJECT = 'crazy-hippo-01' \n",
    "BUCKET = 'crazy-hippo-01' \n",
    "REGION = 'us-central1' \n",
    "# for bash\n",
    "os.environ['PROJECT'] = PROJECT\n",
    "os.environ['BUCKET'] = BUCKET\n",
    "os.environ['REGION'] = REGION"
   ]
  },
  {
   "cell_type": "markdown",
   "id": "duplicate-muscle",
   "metadata": {},
   "source": [
    "#### Run pre-built training job with gcloud tool"
   ]
  },
  {
   "cell_type": "code",
   "execution_count": 23,
   "id": "entire-malaysia",
   "metadata": {},
   "outputs": [
    {
     "name": "stdout",
     "output_type": "stream",
     "text": [
      "jobId: census_xgboost_classification_20210204_135837\n",
      "state: QUEUED\n"
     ]
    },
    {
     "name": "stderr",
     "output_type": "stream",
     "text": [
      "Updated property [core/project].\n",
      "Updated property [compute/region].\n",
      "Job [census_xgboost_classification_20210204_135837] submitted successfully.\n",
      "Your job is still active. You may view the status of your job with the command\n",
      "\n",
      "  $ gcloud ai-platform jobs describe census_xgboost_classification_20210204_135837\n",
      "\n",
      "or continue streaming the logs with the command\n",
      "\n",
      "  $ gcloud ai-platform jobs stream-logs census_xgboost_classification_20210204_135837\n"
     ]
    }
   ],
   "source": [
    "%%bash\n",
    "PROJECT_ID=crazy-hippo-01\n",
    "BUCKET_NAME=crazy-hippo-01\n",
    "REGION=\"us-central1\"\n",
    "gcloud config set project $PROJECT_ID\n",
    "gcloud config set compute/region $REGION\n",
    "\n",
    "#POINT TO TRAINING DATA\n",
    "TRAINING_DATA_PATH=gs://$BUCKET_NAME/ai-platform/ml_engine_training/ordered_census.csv\n",
    "\n",
    "# Specify the Docker container URI specific to the algorithm.\n",
    "IMAGE_URI=\"gcr.io/cloud-ml-algos/boosted_trees:latest\"\n",
    "\n",
    "DATASET_NAME=census\n",
    "ALGORITHM=xgboost\n",
    "MODEL_TYPE=classification\n",
    "MODEL_NAME=${DATASET_NAME}_${ALGORITHM}_${MODEL_TYPE}\n",
    "\n",
    "# Give a unique name to your training job.\n",
    "DATE=$(date '+%Y%m%d_%H%M%S')\n",
    "JOB_ID=${MODEL_NAME}_${DATE}\n",
    "\n",
    "# Make sure you have access to this Cloud Storage bucket.\n",
    "JOB_DIR=gs://crazy-hippo-01/ai-platform/ml_engine_training/${MODEL_NAME}/${DATE}\n",
    "\n",
    "#SUBMIT TRAINING JOB WITH GCLOUD TOOL\n",
    "gcloud ai-platform jobs submit training $JOB_ID \\\n",
    "  --master-image-uri=$IMAGE_URI --scale-tier=BASIC --job-dir=$JOB_DIR \\\n",
    "  -- \\\n",
    "  --preprocess --objective=binary:logistic \\\n",
    "  --training_data_path=$TRAINING_DATA_PATH\n",
    "\n",
    "gcloud ai-platform jobs describe $JOB_ID\n",
    "gcloud ai-platform jobs stream-logs $JOB_ID"
   ]
  },
  {
   "cell_type": "code",
   "execution_count": null,
   "id": "significant-scottish",
   "metadata": {},
   "outputs": [],
   "source": []
  }
 ],
 "metadata": {
  "environment": {
   "name": "tf2-gpu.2-3.mnightly-2021-01-20-debian-10-test",
   "type": "gcloud",
   "uri": "gcr.io/deeplearning-platform-release/tf2-gpu.2-3:mnightly-2021-01-20-debian-10-test"
  },
  "kernelspec": {
   "display_name": "Python 3",
   "language": "python",
   "name": "python3"
  },
  "language_info": {
   "codemirror_mode": {
    "name": "ipython",
    "version": 3
   },
   "file_extension": ".py",
   "mimetype": "text/x-python",
   "name": "python",
   "nbconvert_exporter": "python",
   "pygments_lexer": "ipython3",
   "version": "3.7.9"
  }
 },
 "nbformat": 4,
 "nbformat_minor": 5
}
