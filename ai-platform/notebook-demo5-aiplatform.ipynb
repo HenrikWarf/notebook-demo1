{
 "cells": [
  {
   "cell_type": "markdown",
   "metadata": {},
   "source": [
    "# Training Models in AI Platform Training"
   ]
  },
  {
   "cell_type": "markdown",
   "metadata": {},
   "source": [
    "## 1. Local Python Runner"
   ]
  },
  {
   "cell_type": "code",
   "execution_count": 31,
   "metadata": {},
   "outputs": [],
   "source": [
    "import os\n",
    "import numpy as np\n",
    "PROJECT = 'crazy-hippo-01' \n",
    "BUCKET = 'crazy-hippo-01' \n",
    "REGION = 'us-central1' \n",
    "# for bash\n",
    "os.environ['PROJECT'] = PROJECT\n",
    "os.environ['BUCKET'] = BUCKET\n",
    "os.environ['REGION'] = REGION\n",
    "os.environ['TFVERSION'] = '2.1'"
   ]
  },
  {
   "cell_type": "code",
   "execution_count": 32,
   "metadata": {},
   "outputs": [
    {
     "name": "stdout",
     "output_type": "stream",
     "text": [
      "Epoch 1/5\n",
      "122/122 [==============================] - 2s 18ms/step - loss: 0.4853 - acc: 0.7705 - val_loss: 0.4087 - val_acc: 0.8059\n",
      "Epoch 2/5\n",
      "122/122 [==============================] - 1s 12ms/step - loss: 0.4113 - acc: 0.8066 - val_loss: 0.3835 - val_acc: 0.8159\n",
      "Epoch 3/5\n",
      "122/122 [==============================] - 1s 12ms/step - loss: 0.3796 - acc: 0.8248 - val_loss: 0.3736 - val_acc: 0.8228\n",
      "Epoch 4/5\n",
      "122/122 [==============================] - 2s 16ms/step - loss: 0.3654 - acc: 0.8286 - val_loss: 0.3686 - val_acc: 0.8194\n",
      "Epoch 5/5\n",
      "122/122 [==============================] - 2s 13ms/step - loss: 0.3807 - acc: 0.8192 - val_loss: 0.3664 - val_acc: 0.8213\n",
      "20/20 [==============================] - 0s 4ms/step - loss: 0.3532 - acc: 0.8359\n",
      "Test Loss: 0.3531816005706787 Test Accuracy: 0.8359375\n",
      "Model Saved in gs://crazy-hippo-01/ai-platform/ml_engine_training/export/savedmodel\n"
     ]
    },
    {
     "name": "stderr",
     "output_type": "stream",
     "text": [
      "WARNING:tensorflow:From /opt/conda/lib/python3.7/site-packages/tensorflow/python/training/tracking/tracking.py:111: Model.state_updates (from tensorflow.python.keras.engine.training) is deprecated and will be removed in a future version.\n",
      "Instructions for updating:\n",
      "This property should not be used in TensorFlow 2.0, as updates are applied automatically.\n",
      "WARNING:tensorflow:From /opt/conda/lib/python3.7/site-packages/tensorflow/python/training/tracking/tracking.py:111: Layer.updates (from tensorflow.python.keras.engine.base_layer) is deprecated and will be removed in a future version.\n",
      "Instructions for updating:\n",
      "This property should not be used in TensorFlow 2.0, as updates are applied automatically.\n"
     ]
    }
   ],
   "source": [
    "%%bash\n",
    "python3 -W ignore -m trainer.task \\\n",
    "    --x_train_data_paths='gs://crazy-hippo-01/dataset/x_train.csv' \\\n",
    "    --y_train_data_paths='gs://crazy-hippo-01/dataset/y_train.csv' \\\n",
    "    --x_eval_data_paths='gs://crazy-hippo-01/dataset/x_val.csv'  \\\n",
    "    --y_eval_data_paths='gs://crazy-hippo-01/dataset/y_val.csv'  \\\n",
    "    --epochs=5 \\\n",
    "    --train_batch_size=32 \\\n",
    "    --output_dir=gs://$BUCKET/ai-platform/ml_engine_training \\\n",
    "    --num_eval_examples=100\n"
   ]
  },
  {
   "cell_type": "markdown",
   "metadata": {},
   "source": [
    "## 2. Run local using GCLOUD"
   ]
  },
  {
   "cell_type": "code",
   "execution_count": 4,
   "metadata": {},
   "outputs": [
    {
     "name": "stdout",
     "output_type": "stream",
     "text": [
      "Updated property [ml_engine/local_python].\n"
     ]
    }
   ],
   "source": [
    "! gcloud config set ml_engine/local_python $(which python3)"
   ]
  },
  {
   "cell_type": "code",
   "execution_count": 33,
   "metadata": {},
   "outputs": [
    {
     "name": "stdout",
     "output_type": "stream",
     "text": [
      "Epoch 1/5\n",
      "122/122 [==============================] - 3s 23ms/step - loss: 0.5060 - acc: 0.7582 - val_loss: 0.4176 - val_acc: 0.8075\n",
      "Epoch 2/5\n",
      "122/122 [==============================] - 1s 11ms/step - loss: 0.4126 - acc: 0.8094 - val_loss: 0.3826 - val_acc: 0.8175\n",
      "Epoch 3/5\n",
      "122/122 [==============================] - 1s 11ms/step - loss: 0.3854 - acc: 0.8210 - val_loss: 0.3708 - val_acc: 0.8194\n",
      "Epoch 4/5\n",
      "122/122 [==============================] - 1s 12ms/step - loss: 0.3679 - acc: 0.8284 - val_loss: 0.3662 - val_acc: 0.8234\n",
      "Epoch 5/5\n",
      "122/122 [==============================] - 1s 10ms/step - loss: 0.3703 - acc: 0.8271 - val_loss: 0.3671 - val_acc: 0.8181\n",
      "20/20 [==============================] - 0s 4ms/step - loss: 0.3497 - acc: 0.8313\n",
      "Test Loss: 0.349662184715271 Test Accuracy: 0.831250011920929\n",
      "Model Saved in gs://crazy-hippo-01/ai-platform/ml_engine_training/export/savedmodel\n"
     ]
    },
    {
     "name": "stderr",
     "output_type": "stream",
     "text": [
      "WARNING:tensorflow:From /opt/conda/lib/python3.7/site-packages/tensorflow/python/training/tracking/tracking.py:111: Model.state_updates (from tensorflow.python.keras.engine.training) is deprecated and will be removed in a future version.\n",
      "Instructions for updating:\n",
      "This property should not be used in TensorFlow 2.0, as updates are applied automatically.\n",
      "WARNING:tensorflow:From /opt/conda/lib/python3.7/site-packages/tensorflow/python/training/tracking/tracking.py:111: Layer.updates (from tensorflow.python.keras.engine.base_layer) is deprecated and will be removed in a future version.\n",
      "Instructions for updating:\n",
      "This property should not be used in TensorFlow 2.0, as updates are applied automatically.\n"
     ]
    }
   ],
   "source": [
    "%%bash\n",
    "gcloud ai-platform local train \\\n",
    "    --module-name=trainer.task \\\n",
    "    --package-path=${PWD}/trainer \\\n",
    "    -- \\\n",
    "    --x_train_data_paths=\"gs://crazy-hippo-01/dataset/x_train.csv\" \\\n",
    "    --y_train_data_paths=\"gs://crazy-hippo-01/dataset/y_train.csv\" \\\n",
    "    --x_eval_data_paths=\"gs://crazy-hippo-01/dataset/x_val.csv\"  \\\n",
    "    --y_eval_data_paths=\"gs://crazy-hippo-01/dataset/y_val.csv\"  \\\n",
    "    --epochs=5 \\\n",
    "    --train_batch_size=32 \\\n",
    "    --output_dir=gs://$BUCKET/ai-platform/ml_engine_training \\\n",
    "    --num_eval_examples=100 "
   ]
  },
  {
   "cell_type": "markdown",
   "metadata": {},
   "source": [
    "## 3. Submit job to AI Platform Training"
   ]
  },
  {
   "cell_type": "code",
   "execution_count": 34,
   "metadata": {},
   "outputs": [
    {
     "name": "stdout",
     "output_type": "stream",
     "text": [
      "jobId: earnings_210209_080602\n",
      "state: QUEUED\n"
     ]
    },
    {
     "name": "stderr",
     "output_type": "stream",
     "text": [
      "Job [earnings_210209_080602] submitted successfully.\n",
      "Your job is still active. You may view the status of your job with the command\n",
      "\n",
      "  $ gcloud ai-platform jobs describe earnings_210209_080602\n",
      "\n",
      "or continue streaming the logs with the command\n",
      "\n",
      "  $ gcloud ai-platform jobs stream-logs earnings_210209_080602\n"
     ]
    }
   ],
   "source": [
    "%%bash\n",
    "OUTDIR=gs://${BUCKET}/ai-platform/ml_engine_training/earnings\n",
    "JOBNAME=earnings_$(date -u +%y%m%d_%H%M%S)\n",
    "\n",
    "gcloud ai-platform jobs submit training $JOBNAME \\\n",
    "    --region=$REGION \\\n",
    "    --module-name=trainer.task \\\n",
    "    --package-path=${PWD}/trainer \\\n",
    "    --job-dir=$OUTDIR \\\n",
    "    --staging-bucket=gs://$BUCKET \\\n",
    "    --scale-tier=BASIC \\\n",
    "    --runtime-version=$TFVERSION \\\n",
    "    --python-version=3.7 \\\n",
    "    -- \\\n",
    "    --x_train_data_paths=\"gs://crazy-hippo-01/dataset/x_train.csv\" \\\n",
    "    --y_train_data_paths=\"gs://crazy-hippo-01/dataset/y_train.csv\" \\\n",
    "    --x_eval_data_paths=\"gs://crazy-hippo-01/dataset/x_val.csv\"  \\\n",
    "    --y_eval_data_paths=\"gs://crazy-hippo-01/dataset/y_val.csv\"  \\\n",
    "    --epochs=5 \\\n",
    "    --train_batch_size=32 \\\n",
    "    --output_dir=$OUTDIR \\\n",
    "    --num_eval_examples=100 "
   ]
  },
  {
   "cell_type": "code",
   "execution_count": null,
   "metadata": {},
   "outputs": [],
   "source": []
  }
 ],
 "metadata": {
  "environment": {
   "name": "tf2-gpu.2-3.mnightly-2021-01-20-debian-10-test",
   "type": "gcloud",
   "uri": "gcr.io/deeplearning-platform-release/tf2-gpu.2-3:mnightly-2021-01-20-debian-10-test"
  },
  "kernelspec": {
   "display_name": "Python 3",
   "language": "python",
   "name": "python3"
  },
  "language_info": {
   "codemirror_mode": {
    "name": "ipython",
    "version": 3
   },
   "file_extension": ".py",
   "mimetype": "text/x-python",
   "name": "python",
   "nbconvert_exporter": "python",
   "pygments_lexer": "ipython3",
   "version": "3.7.9"
  }
 },
 "nbformat": 4,
 "nbformat_minor": 4
}
