{
 "cells": [
  {
   "cell_type": "markdown",
   "id": "incredible-winter",
   "metadata": {},
   "source": [
    "# Machine Learning with Scikit-Learn"
   ]
  },
  {
   "cell_type": "markdown",
   "id": "bronze-crest",
   "metadata": {},
   "source": [
    "#### Import Libraries"
   ]
  },
  {
   "cell_type": "code",
   "execution_count": 30,
   "id": "cardiovascular-intermediate",
   "metadata": {},
   "outputs": [],
   "source": [
    "import pandas as pd\n",
    "import sklearn as sk\n",
    "from sklearn.linear_model import LogisticRegression\n",
    "from sklearn.model_selection import train_test_split\n",
    "from sklearn import preprocessing"
   ]
  },
  {
   "cell_type": "markdown",
   "id": "julian-allen",
   "metadata": {},
   "source": [
    "#### Load data from BigQuery table"
   ]
  },
  {
   "cell_type": "code",
   "execution_count": 5,
   "id": "capable-longitude",
   "metadata": {},
   "outputs": [
    {
     "name": "stderr",
     "output_type": "stream",
     "text": [
      "Query complete after 0.00s: 100%|██████████| 1/1 [00:00<00:00, 371.21query/s] \n",
      "Downloading: 100%|██████████| 32461/32461 [00:01<00:00, 20350.12rows/s]\n"
     ]
    }
   ],
   "source": [
    "%%bigquery df\n",
    "SELECT *\n",
    "FROM `crazy-hippo-01.earnings_ml.census_data`"
   ]
  },
  {
   "cell_type": "code",
   "execution_count": 36,
   "id": "moving-approach",
   "metadata": {},
   "outputs": [
    {
     "data": {
      "text/html": [
       "<div>\n",
       "<style scoped>\n",
       "    .dataframe tbody tr th:only-of-type {\n",
       "        vertical-align: middle;\n",
       "    }\n",
       "\n",
       "    .dataframe tbody tr th {\n",
       "        vertical-align: top;\n",
       "    }\n",
       "\n",
       "    .dataframe thead th {\n",
       "        text-align: right;\n",
       "    }\n",
       "</style>\n",
       "<table border=\"1\" class=\"dataframe\">\n",
       "  <thead>\n",
       "    <tr style=\"text-align: right;\">\n",
       "      <th></th>\n",
       "      <th>age</th>\n",
       "      <th>workclass</th>\n",
       "      <th>fnlwgt</th>\n",
       "      <th>education</th>\n",
       "      <th>education_num</th>\n",
       "      <th>marital_status</th>\n",
       "      <th>occupation</th>\n",
       "      <th>relationship</th>\n",
       "      <th>race</th>\n",
       "      <th>sex</th>\n",
       "      <th>capital_gain</th>\n",
       "      <th>capital_loss</th>\n",
       "      <th>hours_per_week</th>\n",
       "      <th>native_country</th>\n",
       "      <th>income</th>\n",
       "    </tr>\n",
       "  </thead>\n",
       "  <tbody>\n",
       "    <tr>\n",
       "      <th>0</th>\n",
       "      <td>65</td>\n",
       "      <td>?</td>\n",
       "      <td>293385</td>\n",
       "      <td>Preschool</td>\n",
       "      <td>1</td>\n",
       "      <td>Married-civ-spouse</td>\n",
       "      <td>?</td>\n",
       "      <td>Husband</td>\n",
       "      <td>Black</td>\n",
       "      <td>Male</td>\n",
       "      <td>0</td>\n",
       "      <td>0</td>\n",
       "      <td>30</td>\n",
       "      <td>United-States</td>\n",
       "      <td>&lt;=50K</td>\n",
       "    </tr>\n",
       "    <tr>\n",
       "      <th>1</th>\n",
       "      <td>64</td>\n",
       "      <td>?</td>\n",
       "      <td>140237</td>\n",
       "      <td>Preschool</td>\n",
       "      <td>1</td>\n",
       "      <td>Married-civ-spouse</td>\n",
       "      <td>?</td>\n",
       "      <td>Husband</td>\n",
       "      <td>White</td>\n",
       "      <td>Male</td>\n",
       "      <td>0</td>\n",
       "      <td>0</td>\n",
       "      <td>40</td>\n",
       "      <td>United-States</td>\n",
       "      <td>&lt;=50K</td>\n",
       "    </tr>\n",
       "    <tr>\n",
       "      <th>2</th>\n",
       "      <td>52</td>\n",
       "      <td>?</td>\n",
       "      <td>248113</td>\n",
       "      <td>Preschool</td>\n",
       "      <td>1</td>\n",
       "      <td>Married-spouse-absent</td>\n",
       "      <td>?</td>\n",
       "      <td>Other-relative</td>\n",
       "      <td>White</td>\n",
       "      <td>Male</td>\n",
       "      <td>0</td>\n",
       "      <td>0</td>\n",
       "      <td>40</td>\n",
       "      <td>Mexico</td>\n",
       "      <td>&lt;=50K</td>\n",
       "    </tr>\n",
       "    <tr>\n",
       "      <th>3</th>\n",
       "      <td>54</td>\n",
       "      <td>?</td>\n",
       "      <td>148657</td>\n",
       "      <td>Preschool</td>\n",
       "      <td>1</td>\n",
       "      <td>Married-civ-spouse</td>\n",
       "      <td>?</td>\n",
       "      <td>Wife</td>\n",
       "      <td>White</td>\n",
       "      <td>Female</td>\n",
       "      <td>0</td>\n",
       "      <td>0</td>\n",
       "      <td>40</td>\n",
       "      <td>Mexico</td>\n",
       "      <td>&lt;=50K</td>\n",
       "    </tr>\n",
       "    <tr>\n",
       "      <th>4</th>\n",
       "      <td>39</td>\n",
       "      <td>?</td>\n",
       "      <td>362685</td>\n",
       "      <td>Preschool</td>\n",
       "      <td>1</td>\n",
       "      <td>Widowed</td>\n",
       "      <td>?</td>\n",
       "      <td>Not-in-family</td>\n",
       "      <td>White</td>\n",
       "      <td>Female</td>\n",
       "      <td>0</td>\n",
       "      <td>0</td>\n",
       "      <td>20</td>\n",
       "      <td>El-Salvador</td>\n",
       "      <td>&lt;=50K</td>\n",
       "    </tr>\n",
       "  </tbody>\n",
       "</table>\n",
       "</div>"
      ],
      "text/plain": [
       "   age workclass  fnlwgt   education  education_num          marital_status  \\\n",
       "0   65         ?  293385   Preschool              1      Married-civ-spouse   \n",
       "1   64         ?  140237   Preschool              1      Married-civ-spouse   \n",
       "2   52         ?  248113   Preschool              1   Married-spouse-absent   \n",
       "3   54         ?  148657   Preschool              1      Married-civ-spouse   \n",
       "4   39         ?  362685   Preschool              1                 Widowed   \n",
       "\n",
       "  occupation     relationship    race      sex  capital_gain  capital_loss  \\\n",
       "0          ?          Husband   Black     Male             0             0   \n",
       "1          ?          Husband   White     Male             0             0   \n",
       "2          ?   Other-relative   White     Male             0             0   \n",
       "3          ?             Wife   White   Female             0             0   \n",
       "4          ?    Not-in-family   White   Female             0             0   \n",
       "\n",
       "   hours_per_week  native_country  income  \n",
       "0              30   United-States   <=50K  \n",
       "1              40   United-States   <=50K  \n",
       "2              40          Mexico   <=50K  \n",
       "3              40          Mexico   <=50K  \n",
       "4              20     El-Salvador   <=50K  "
      ]
     },
     "execution_count": 36,
     "metadata": {},
     "output_type": "execute_result"
    }
   ],
   "source": [
    "df.head()"
   ]
  },
  {
   "cell_type": "markdown",
   "id": "composite-watts",
   "metadata": {},
   "source": [
    "#### Make Feature Selection and assign Target Column"
   ]
  },
  {
   "cell_type": "code",
   "execution_count": 129,
   "id": "stone-martial",
   "metadata": {},
   "outputs": [],
   "source": [
    "X = df[['age', 'workclass', 'sex', 'occupation', 'education_num', 'marital_status', 'relationship', 'capital_gain']]\n",
    "y = df[['income']]"
   ]
  },
  {
   "cell_type": "markdown",
   "id": "opening-thomas",
   "metadata": {},
   "source": [
    "#### Perform ML Data Preparation with One-hit Encoding and Normalization"
   ]
  },
  {
   "cell_type": "code",
   "execution_count": null,
   "id": "lyric-efficiency",
   "metadata": {},
   "outputs": [],
   "source": [
    "#One-hot encode data using Pandas get_dummies function\n",
    "X = pd.get_dummies(X, prefix=['workclass', 'gender','occupation','marital_status','relationship'])\n",
    "\n",
    "#Normalize data using Scikit-learn function\n",
    "scaler = preprocessing.MinMaxScaler()\n",
    "X[['age','education_num','capital_gain']] = scaler.fit_transform(X[['age','education_num','capital_gain']])"
   ]
  },
  {
   "cell_type": "markdown",
   "id": "sweet-national",
   "metadata": {},
   "source": [
    "#### Check to see all the features that has been created during Data Preparation"
   ]
  },
  {
   "cell_type": "code",
   "execution_count": 181,
   "id": "pursuant-gathering",
   "metadata": {},
   "outputs": [
    {
     "name": "stdout",
     "output_type": "stream",
     "text": [
      "<class 'pandas.core.frame.DataFrame'>\n",
      "RangeIndex: 32461 entries, 0 to 32460\n",
      "Data columns (total 42 columns):\n",
      " #   Column                                 Non-Null Count  Dtype  \n",
      "---  ------                                 --------------  -----  \n",
      " 0   age                                    32461 non-null  float64\n",
      " 1   education_num                          32461 non-null  float64\n",
      " 2   capital_gain                           32461 non-null  float64\n",
      " 3   workclass_ ?                           32461 non-null  uint8  \n",
      " 4   workclass_ Federal-gov                 32461 non-null  uint8  \n",
      " 5   workclass_ Local-gov                   32461 non-null  uint8  \n",
      " 6   workclass_ Never-worked                32461 non-null  uint8  \n",
      " 7   workclass_ Private                     32461 non-null  uint8  \n",
      " 8   workclass_ Self-emp-inc                32461 non-null  uint8  \n",
      " 9   workclass_ Self-emp-not-inc            32461 non-null  uint8  \n",
      " 10  workclass_ State-gov                   32461 non-null  uint8  \n",
      " 11  workclass_ Without-pay                 32461 non-null  uint8  \n",
      " 12  gender_ Female                         32461 non-null  uint8  \n",
      " 13  gender_ Male                           32461 non-null  uint8  \n",
      " 14  occupation_ ?                          32461 non-null  uint8  \n",
      " 15  occupation_ Adm-clerical               32461 non-null  uint8  \n",
      " 16  occupation_ Armed-Forces               32461 non-null  uint8  \n",
      " 17  occupation_ Craft-repair               32461 non-null  uint8  \n",
      " 18  occupation_ Exec-managerial            32461 non-null  uint8  \n",
      " 19  occupation_ Farming-fishing            32461 non-null  uint8  \n",
      " 20  occupation_ Handlers-cleaners          32461 non-null  uint8  \n",
      " 21  occupation_ Machine-op-inspct          32461 non-null  uint8  \n",
      " 22  occupation_ Other-service              32461 non-null  uint8  \n",
      " 23  occupation_ Priv-house-serv            32461 non-null  uint8  \n",
      " 24  occupation_ Prof-specialty             32461 non-null  uint8  \n",
      " 25  occupation_ Protective-serv            32461 non-null  uint8  \n",
      " 26  occupation_ Sales                      32461 non-null  uint8  \n",
      " 27  occupation_ Tech-support               32461 non-null  uint8  \n",
      " 28  occupation_ Transport-moving           32461 non-null  uint8  \n",
      " 29  marital_status_ Divorced               32461 non-null  uint8  \n",
      " 30  marital_status_ Married-AF-spouse      32461 non-null  uint8  \n",
      " 31  marital_status_ Married-civ-spouse     32461 non-null  uint8  \n",
      " 32  marital_status_ Married-spouse-absent  32461 non-null  uint8  \n",
      " 33  marital_status_ Never-married          32461 non-null  uint8  \n",
      " 34  marital_status_ Separated              32461 non-null  uint8  \n",
      " 35  marital_status_ Widowed                32461 non-null  uint8  \n",
      " 36  relationship_ Husband                  32461 non-null  uint8  \n",
      " 37  relationship_ Not-in-family            32461 non-null  uint8  \n",
      " 38  relationship_ Other-relative           32461 non-null  uint8  \n",
      " 39  relationship_ Own-child                32461 non-null  uint8  \n",
      " 40  relationship_ Unmarried                32461 non-null  uint8  \n",
      " 41  relationship_ Wife                     32461 non-null  uint8  \n",
      "dtypes: float64(3), uint8(39)\n",
      "memory usage: 2.0 MB\n"
     ]
    }
   ],
   "source": [
    "X.info()"
   ]
  },
  {
   "cell_type": "markdown",
   "id": "minus-browser",
   "metadata": {},
   "source": [
    "#### Perform Data Preparation for the y Labels (they are strings now)"
   ]
  },
  {
   "cell_type": "code",
   "execution_count": 131,
   "id": "complicated-guitar",
   "metadata": {},
   "outputs": [
    {
     "data": {
      "text/plain": [
       "LabelEncoder()"
      ]
     },
     "execution_count": 131,
     "metadata": {},
     "output_type": "execute_result"
    }
   ],
   "source": [
    "# Change label string into integer to be able to use in model training\n",
    "le = preprocessing.LabelEncoder()\n",
    "le.fit(y['income'])\n",
    "y['income'] = le.transform(y['income'])\n",
    "y = y['income'].values"
   ]
  },
  {
   "cell_type": "markdown",
   "id": "smaller-lease",
   "metadata": {},
   "source": [
    "#### Spitt data into Training and Test data via Scikit-learn train_test_split function"
   ]
  },
  {
   "cell_type": "code",
   "execution_count": 144,
   "id": "therapeutic-liverpool",
   "metadata": {},
   "outputs": [],
   "source": [
    "#Split data in train and test data\n",
    "X_train, X_test, y_train, y_test = train_test_split(X, y, test_size=0.20, random_state=42)"
   ]
  },
  {
   "cell_type": "markdown",
   "id": "regional-greene",
   "metadata": {},
   "source": [
    "#### Initialize Logistic Regression classifier and fit (train) to your created data"
   ]
  },
  {
   "cell_type": "code",
   "execution_count": 146,
   "id": "liberal-burke",
   "metadata": {},
   "outputs": [],
   "source": [
    "LR = LogisticRegression(random_state=0, solver='lbfgs', multi_class='ovr', max_iter=200).fit(X_train, y_train)\n"
   ]
  },
  {
   "cell_type": "markdown",
   "id": "dietary-weapon",
   "metadata": {},
   "source": [
    "#### Set up Prediction Function that takes in a number of entries from X_test "
   ]
  },
  {
   "cell_type": "code",
   "execution_count": 163,
   "id": "recovered-printing",
   "metadata": {},
   "outputs": [],
   "source": [
    "def predict_func(data):\n",
    "    predictions = LR.predict(data)\n",
    "    \n",
    "    for response in predictions:\n",
    "        if response == 0:\n",
    "            print('Under 50K')\n",
    "        else :\n",
    "            print('Over 50K')\n"
   ]
  },
  {
   "cell_type": "code",
   "execution_count": 183,
   "id": "saved-original",
   "metadata": {},
   "outputs": [
    {
     "name": "stdout",
     "output_type": "stream",
     "text": [
      "Under 50K\n",
      "Over 50K\n"
     ]
    }
   ],
   "source": [
    "predict_func(X_test[10:12])"
   ]
  },
  {
   "cell_type": "markdown",
   "id": "sacred-armor",
   "metadata": {},
   "source": [
    "#### Return the mean accuracy on the given test data and labels using the scikit-learn SCORE function"
   ]
  },
  {
   "cell_type": "code",
   "execution_count": 151,
   "id": "western-privilege",
   "metadata": {},
   "outputs": [
    {
     "data": {
      "text/plain": [
       "0.8410596026490066"
      ]
     },
     "execution_count": 151,
     "metadata": {},
     "output_type": "execute_result"
    }
   ],
   "source": [
    "LR.score(X_test, y_test)"
   ]
  }
 ],
 "metadata": {
  "environment": {
   "name": "tf2-gpu.2-3.mnightly-2021-01-20-debian-10-test",
   "type": "gcloud",
   "uri": "gcr.io/deeplearning-platform-release/tf2-gpu.2-3:mnightly-2021-01-20-debian-10-test"
  },
  "kernelspec": {
   "display_name": "Python 3",
   "language": "python",
   "name": "python3"
  },
  "language_info": {
   "codemirror_mode": {
    "name": "ipython",
    "version": 3
   },
   "file_extension": ".py",
   "mimetype": "text/x-python",
   "name": "python",
   "nbconvert_exporter": "python",
   "pygments_lexer": "ipython3",
   "version": "3.7.9"
  }
 },
 "nbformat": 4,
 "nbformat_minor": 5
}
