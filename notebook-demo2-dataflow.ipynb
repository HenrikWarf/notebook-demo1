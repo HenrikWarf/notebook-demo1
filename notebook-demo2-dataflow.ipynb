{
 "cells": [
  {
   "cell_type": "markdown",
   "id": "retained-camera",
   "metadata": {},
   "source": [
    "## Running Dataflow jobs from Notebook"
   ]
  },
  {
   "cell_type": "markdown",
   "id": "aware-raising",
   "metadata": {},
   "source": [
    "### Running python file from Notebook"
   ]
  },
  {
   "cell_type": "code",
   "execution_count": null,
   "id": "superior-response",
   "metadata": {},
   "outputs": [
    {
     "name": "stdout",
     "output_type": "stream",
     "text": [
      "WARNING:root:Make sure that locally built Python SDK docker image has Python 3.7 interpreter.\n"
     ]
    }
   ],
   "source": [
    "!python dataflow-job.py --runner DataflowRunner --project crazy-hippo-01 --temp_location gs://crazy-hippo-01/dataflow_beam_data --staging_location gs://crazy-hippo-01/dataflow_beam_data --region us-central1"
   ]
  },
  {
   "cell_type": "markdown",
   "id": "aquatic-routine",
   "metadata": {},
   "source": [
    "#### Code from file:"
   ]
  },
  {
   "cell_type": "code",
   "execution_count": null,
   "id": "hungry-enforcement",
   "metadata": {},
   "outputs": [],
   "source": [
    "import apache_beam as beam\n",
    "from apache_beam.options.pipeline_options import StandardOptions, PipelineOptions\n",
    "\n",
    "options = PipelineOptions()\n",
    "options.view_as(StandardOptions).streaming = False\n",
    "\n",
    "\n",
    "def selectData(element) :\n",
    "      return element.split(',')\n",
    "\n",
    "def filtering(record):\n",
    "      return record[3] == 'Accounts'\n",
    "\n",
    "#p1 = beam.Pipeline()\n",
    "\n",
    "pipeline1 = beam.Pipeline(options=options)\n",
    "\n",
    "#with beam.Pipeline() as pipeline1:\n",
    "dep_data_count = (\n",
    "    pipeline1\n",
    "      |'Read from file' >> beam.io.ReadFromText('gs://crazy-hippo-01/dataflow_beam_data/dept-data.txt')\n",
    "      |'Select_data' >> beam.Map(selectData)\n",
    "      |'Filter record on Accounts' >> beam.Filter(filtering)\n",
    "      |'Create Tuple of Records' >> beam.Map(lambda record : (record[1], 1))\n",
    "      |'Apply CombinePerKey on Records' >> beam.CombinePerKey(sum)\n",
    "      |'Write to Cloud Storage' >> beam.io.WriteToText('gs://crazy-hippo-01/dataflow_beam_data/output_new')\n",
    ")\n",
    "\n",
    "pipeline1.run().wait_until_finish()"
   ]
  },
  {
   "cell_type": "markdown",
   "id": "interpreted-physiology",
   "metadata": {},
   "source": []
  },
  {
   "cell_type": "code",
   "execution_count": null,
   "id": "developed-institution",
   "metadata": {},
   "outputs": [],
   "source": []
  }
 ],
 "metadata": {
  "environment": {
   "name": "tf2-gpu.2-3.mnightly-2021-01-20-debian-10-test",
   "type": "gcloud",
   "uri": "gcr.io/deeplearning-platform-release/tf2-gpu.2-3:mnightly-2021-01-20-debian-10-test"
  },
  "kernelspec": {
   "display_name": "Python 3",
   "language": "python",
   "name": "python3"
  },
  "language_info": {
   "codemirror_mode": {
    "name": "ipython",
    "version": 3
   },
   "file_extension": ".py",
   "mimetype": "text/x-python",
   "name": "python",
   "nbconvert_exporter": "python",
   "pygments_lexer": "ipython3",
   "version": "3.7.9"
  }
 },
 "nbformat": 4,
 "nbformat_minor": 5
}
