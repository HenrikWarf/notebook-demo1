{
 "cells": [
  {
   "cell_type": "markdown",
   "id": "suburban-possible",
   "metadata": {},
   "source": [
    "# Running Dataflow jobs from Notebook"
   ]
  },
  {
   "cell_type": "markdown",
   "id": "conscious-waters",
   "metadata": {},
   "source": [
    "### Running python file from Notebook"
   ]
  },
  {
   "cell_type": "code",
   "execution_count": 14,
   "id": "artificial-linux",
   "metadata": {},
   "outputs": [
    {
     "name": "stdout",
     "output_type": "stream",
     "text": [
      "/opt/conda/lib/python3.7/site-packages/apache_beam/io/gcp/bigquery.py:1653: BeamDeprecationWarning: options is deprecated since First stable release. References to <pipeline>.options will not be supported\n",
      "  experiments = p.options.view_as(DebugOptions).experiments or []\n",
      "/opt/conda/lib/python3.7/site-packages/apache_beam/io/gcp/bigquery_file_loads.py:901: BeamDeprecationWarning: options is deprecated since First stable release. References to <pipeline>.options will not be supported\n",
      "  temp_location = p.options.view_as(GoogleCloudOptions).temp_location\n",
      "WARNING:root:Make sure that locally built Python SDK docker image has Python 3.7 interpreter.\n"
     ]
    }
   ],
   "source": [
    "!python dataflow-job.py --runner DataflowRunner --project crazy-hippo-01 --temp_location gs://crazy-hippo-01/dataflow_beam_data --staging_location gs://crazy-hippo-01/dataflow_beam_data --region us-central1"
   ]
  },
  {
   "cell_type": "markdown",
   "id": "searching-pollution",
   "metadata": {},
   "source": [
    "#### Code from file:"
   ]
  },
  {
   "cell_type": "code",
   "execution_count": null,
   "id": "noticed-tumor",
   "metadata": {},
   "outputs": [],
   "source": [
    "import apache_beam as beam\n",
    "from apache_beam.options.pipeline_options import StandardOptions, PipelineOptions\n",
    "\n",
    "options = PipelineOptions()\n",
    "options.view_as(StandardOptions).streaming = False\n",
    "\n",
    "#Transformation Function #1 \n",
    "def selectData(element) :\n",
    "      return element.split(',')\n",
    "\n",
    "#Transformation Function #2\n",
    "def filtering(record):\n",
    "      return record[3] == 'Accounts'\n",
    "\n",
    "pipeline1 = beam.Pipeline(options=options)\n",
    "\n",
    "#BigQuery Parameters\n",
    "table_spec = 'crazy-hippo-01:department_dataflow.group_by_name'\n",
    "table_schema = 'name:STRING, count:INTEGER'\n",
    "\n",
    "#Pipeline\n",
    "dep_data_count = (\n",
    "    pipeline1\n",
    "      |'Read from file' >> beam.io.ReadFromText('gs://crazy-hippo-01/dataflow_beam_data/dept-data.txt')\n",
    "      |'Select_data' >> beam.Map(selectData)\n",
    "      |'Filter record on Accounts' >> beam.Filter(filtering)\n",
    "      |'Create Dict of Records' >> beam.Map(lambda record : (record[1], 1))\n",
    "      |'Apply CombinePerKey on Records' >> beam.CombinePerKey(sum)\n",
    "      |'Make into Dict' >> beam.Map(lambda x: {\"name\": x[0], \"count\": x[1]})\n",
    "      #|'Write to Cloud Storage' >> beam.io.WriteToText('gs://crazy-hippo-01/dataflow_beam_data/output_new')\n",
    "      |'Write to BQ' >> beam.io.WriteToBigQuery(\n",
    "                                                table_spec,\n",
    "                                                schema=table_schema,\n",
    "                                                write_disposition=beam.io.BigQueryDisposition.WRITE_APPEND,\n",
    "                                                create_disposition=beam.io.BigQueryDisposition.CREATE_IF_NEEDED)\n",
    ")\n",
    "\n",
    "#Execution\n",
    "pipeline1.run().wait_until_finish()"
   ]
  },
  {
   "cell_type": "markdown",
   "id": "infrared-bumper",
   "metadata": {},
   "source": []
  },
  {
   "cell_type": "code",
   "execution_count": null,
   "id": "facial-comfort",
   "metadata": {},
   "outputs": [],
   "source": []
  }
 ],
 "metadata": {
  "environment": {
   "name": "tf2-gpu.2-3.mnightly-2021-01-20-debian-10-test",
   "type": "gcloud",
   "uri": "gcr.io/deeplearning-platform-release/tf2-gpu.2-3:mnightly-2021-01-20-debian-10-test"
  },
  "kernelspec": {
   "display_name": "Python 3",
   "language": "python",
   "name": "python3"
  },
  "language_info": {
   "codemirror_mode": {
    "name": "ipython",
    "version": 3
   },
   "file_extension": ".py",
   "mimetype": "text/x-python",
   "name": "python",
   "nbconvert_exporter": "python",
   "pygments_lexer": "ipython3",
   "version": "3.7.9"
  }
 },
 "nbformat": 4,
 "nbformat_minor": 5
}
