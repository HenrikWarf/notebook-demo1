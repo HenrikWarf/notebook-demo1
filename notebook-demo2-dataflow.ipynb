{
 "cells": [
  {
   "cell_type": "markdown",
   "id": "threatened-swimming",
   "metadata": {},
   "source": [
    "## Running Dataflow jobs from Notebook"
   ]
  },
  {
   "cell_type": "markdown",
   "id": "innocent-mandate",
   "metadata": {},
   "source": [
    "### Running python file from Notebook"
   ]
  },
  {
   "cell_type": "code",
   "execution_count": 14,
   "id": "worst-mailman",
   "metadata": {},
   "outputs": [
    {
     "name": "stdout",
     "output_type": "stream",
     "text": [
      "/opt/conda/lib/python3.7/site-packages/apache_beam/io/gcp/bigquery.py:1653: BeamDeprecationWarning: options is deprecated since First stable release. References to <pipeline>.options will not be supported\n",
      "  experiments = p.options.view_as(DebugOptions).experiments or []\n",
      "/opt/conda/lib/python3.7/site-packages/apache_beam/io/gcp/bigquery_file_loads.py:901: BeamDeprecationWarning: options is deprecated since First stable release. References to <pipeline>.options will not be supported\n",
      "  temp_location = p.options.view_as(GoogleCloudOptions).temp_location\n",
      "WARNING:root:Make sure that locally built Python SDK docker image has Python 3.7 interpreter.\n"
     ]
    }
   ],
   "source": [
    "!python dataflow-job.py --runner DataflowRunner --project crazy-hippo-01 --temp_location gs://crazy-hippo-01/dataflow_beam_data --staging_location gs://crazy-hippo-01/dataflow_beam_data --region us-central1"
   ]
  },
  {
   "cell_type": "markdown",
   "id": "round-temperature",
   "metadata": {},
   "source": [
    "#### Code from file:"
   ]
  },
  {
   "cell_type": "code",
   "execution_count": null,
   "id": "pointed-outreach",
   "metadata": {},
   "outputs": [],
   "source": []
  },
  {
   "cell_type": "markdown",
   "id": "stopped-typing",
   "metadata": {},
   "source": []
  },
  {
   "cell_type": "code",
   "execution_count": null,
   "id": "exposed-residence",
   "metadata": {},
   "outputs": [],
   "source": []
  }
 ],
 "metadata": {
  "environment": {
   "name": "tf2-gpu.2-3.mnightly-2021-01-20-debian-10-test",
   "type": "gcloud",
   "uri": "gcr.io/deeplearning-platform-release/tf2-gpu.2-3:mnightly-2021-01-20-debian-10-test"
  },
  "kernelspec": {
   "display_name": "Python 3",
   "language": "python",
   "name": "python3"
  },
  "language_info": {
   "codemirror_mode": {
    "name": "ipython",
    "version": 3
   },
   "file_extension": ".py",
   "mimetype": "text/x-python",
   "name": "python",
   "nbconvert_exporter": "python",
   "pygments_lexer": "ipython3",
   "version": "3.7.9"
  }
 },
 "nbformat": 4,
 "nbformat_minor": 5
}
