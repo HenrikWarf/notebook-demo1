{
 "cells": [
  {
   "cell_type": "markdown",
   "id": "binding-clear",
   "metadata": {},
   "source": [
    "# AI Platform Pipelines - AutoML Pipeline"
   ]
  },
  {
   "cell_type": "markdown",
   "id": "informative-crazy",
   "metadata": {},
   "source": [
    "#### Set up some variables"
   ]
  },
  {
   "cell_type": "code",
   "execution_count": 1,
   "id": "split-wrapping",
   "metadata": {},
   "outputs": [],
   "source": [
    "import os\n",
    "PROJECT = 'crazy-hippo-01'\n",
    "\n",
    "os.environ['PROJECT'] = PROJECT"
   ]
  },
  {
   "cell_type": "code",
   "execution_count": 2,
   "id": "younger-probability",
   "metadata": {},
   "outputs": [
    {
     "name": "stdout",
     "output_type": "stream",
     "text": [
      "Updated property [core/project].\n"
     ]
    }
   ],
   "source": [
    "!gcloud config set project $PROJECT"
   ]
  },
  {
   "cell_type": "code",
   "execution_count": 3,
   "id": "cognitive-diving",
   "metadata": {},
   "outputs": [
    {
     "name": "stdout",
     "output_type": "stream",
     "text": [
      "AccessDeniedException: 403 henrikw@google.com does not have storage.objects.list access to the Google Cloud Storage bucket.\n",
      "AccessDeniedException: 403 henrikw@google.com does not have storage.objects.list access to the Google Cloud Storage bucket.\n"
     ]
    }
   ],
   "source": [
    "!gsutil cp gs://cloud-aiplatform-pipelines/releases/20210201/aiplatform_pipelines_client-0.1.0.caip20210201-py3-none-any.whl .  \n",
    "# Get the Metadata SDK to query the produced metadata.\n",
    "!gsutil cp gs://cloud-aiplatform-metadata/sdk/google-cloud-aiplatform-metadata-0.0.1.tar.gz ."
   ]
  },
  {
   "cell_type": "code",
   "execution_count": null,
   "id": "sorted-worst",
   "metadata": {},
   "outputs": [],
   "source": []
  },
  {
   "cell_type": "code",
   "execution_count": null,
   "id": "everyday-valentine",
   "metadata": {},
   "outputs": [],
   "source": []
  }
 ],
 "metadata": {
  "environment": {
   "name": "tf2-gpu.2-3.mnightly-2021-01-20-debian-10-test",
   "type": "gcloud",
   "uri": "gcr.io/deeplearning-platform-release/tf2-gpu.2-3:mnightly-2021-01-20-debian-10-test"
  },
  "kernelspec": {
   "display_name": "Python 3",
   "language": "python",
   "name": "python3"
  },
  "language_info": {
   "codemirror_mode": {
    "name": "ipython",
    "version": 3
   },
   "file_extension": ".py",
   "mimetype": "text/x-python",
   "name": "python",
   "nbconvert_exporter": "python",
   "pygments_lexer": "ipython3",
   "version": "3.7.9"
  }
 },
 "nbformat": 4,
 "nbformat_minor": 5
}
