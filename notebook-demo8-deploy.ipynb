{
 "cells": [
  {
   "cell_type": "markdown",
   "id": "amber-relaxation",
   "metadata": {},
   "source": [
    "# Deploy Model to AI Platform Predications"
   ]
  },
  {
   "cell_type": "markdown",
   "id": "popular-breast",
   "metadata": {},
   "source": [
    "### Import Libraries and set up parameters"
   ]
  },
  {
   "cell_type": "code",
   "execution_count": 33,
   "id": "heavy-significance",
   "metadata": {},
   "outputs": [],
   "source": [
    "import os\n",
    "import numpy as np\n",
    "PROJECT = 'crazy-hippo-01' \n",
    "BUCKET = 'crazy-hippo-01' \n",
    "REGION = 'us-central1' \n",
    "MODEL_NAME = 'earnings'\n",
    "MODEL_VERSION='v1'\n",
    "MODEL_LOCATION='gs://crazy-hippo-01/ai-platform/ml_engine_training/earnings/export/savedmodel/'\n",
    "INPUT_DATA_FILE='earnings_predict.json'\n",
    "\n",
    "# for bash\n",
    "os.environ['PROJECT'] = PROJECT\n",
    "os.environ['BUCKET'] = BUCKET\n",
    "os.environ['REGION'] = REGION\n",
    "os.environ['TFVERSION'] = '2.1'\n",
    "os.environ['MODEL_NAME'] = MODEL_NAME\n",
    "os.environ['MODEL_VERSION'] = MODEL_VERSION\n",
    "os.environ['MODEL_LOCATION'] = MODEL_LOCATION\n",
    "os.environ['INPUT_DATA_FILE'] = INPUT_DATA_FILE"
   ]
  },
  {
   "cell_type": "markdown",
   "id": "provincial-accreditation",
   "metadata": {},
   "source": [
    "### List Model in Google Cloud Storage Bucket"
   ]
  },
  {
   "cell_type": "code",
   "execution_count": 42,
   "id": "adjacent-naples",
   "metadata": {},
   "outputs": [
    {
     "name": "stdout",
     "output_type": "stream",
     "text": [
      "gs://crazy-hippo-01/ai-platform/ml_engine_training/earnings/export/savedmodel/\n",
      "gs://crazy-hippo-01/ai-platform/ml_engine_training/earnings/export/savedmodel/saved_model.pb\n",
      "gs://crazy-hippo-01/ai-platform/ml_engine_training/earnings/export/savedmodel/assets/\n",
      "gs://crazy-hippo-01/ai-platform/ml_engine_training/earnings/export/savedmodel/variables/\n"
     ]
    }
   ],
   "source": [
    "%%bash\n",
    "gsutil ls gs://crazy-hippo-01/ai-platform/ml_engine_training/earnings/export/savedmodel"
   ]
  },
  {
   "cell_type": "markdown",
   "id": "endangered-asbestos",
   "metadata": {},
   "source": [
    "### Deploy Model to AI Plaform Predictions through the SDK"
   ]
  },
  {
   "cell_type": "code",
   "execution_count": 70,
   "id": "identified-outdoors",
   "metadata": {},
   "outputs": [
    {
     "name": "stdout",
     "output_type": "stream",
     "text": [
      "earnings already exists\n",
      "Creating earnings:v1\n"
     ]
    },
    {
     "name": "stderr",
     "output_type": "stream",
     "text": [
      "Using endpoint [https://ml.googleapis.com/]\n",
      "Using endpoint [https://ml.googleapis.com/]\n",
      "Using endpoint [https://ml.googleapis.com/]\n"
     ]
    }
   ],
   "source": [
    "%%bash\n",
    "\n",
    "#Check if Model already exists\n",
    "if [[ $(gcloud ai-platform models list --region='global' --format='value(name)' | grep $MODEL_NAME) ]]; then\n",
    "    echo \"$MODEL_NAME already exists\"\n",
    "else\n",
    "    # create model\n",
    "    echo \"Creating $MODEL_NAME\"\n",
    "    gcloud ai-platform models create $MODEL_NAME --regions=$REGION\n",
    "fi\n",
    "\n",
    "#Check if version already exists and remove in that case\n",
    "if [[ $(gcloud ai-platform versions list --model $MODEL_NAME --region='global' --format='value(name)' | grep $MODEL_VERSION) ]]; then\n",
    "    echo \"Deleting already existing $MODEL_NAME:$MODEL_VERSION ... \"\n",
    "    gcloud ai-platform versions delete --model=$MODEL_NAME $MODEL_VERSION\n",
    "    echo \"Please run this cell again if you don't see a Creating message ... \"\n",
    "    sleep 10\n",
    "fi\n",
    "\n",
    "#Create New Version and/or Model and Deploy\n",
    "echo \"Creating $MODEL_NAME:$MODEL_VERSION\"\n",
    "gcloud ai-platform versions create $MODEL_VERSION --model=$MODEL_NAME --async \\\n",
    "       --region='global' --framework=tensorflow --python-version=3.7 --runtime-version=$TFVERSION \\\n",
    "       --origin=$MODEL_LOCATION --staging-bucket=gs://$BUCKET"
   ]
  },
  {
   "cell_type": "markdown",
   "id": "opening-shuttle",
   "metadata": {},
   "source": [
    "### Display list of Versions for the model"
   ]
  },
  {
   "cell_type": "code",
   "execution_count": 3,
   "id": "organizational-physics",
   "metadata": {},
   "outputs": [
    {
     "name": "stdout",
     "output_type": "stream",
     "text": [
      "NAME  DEPLOYMENT_URI                                                                  STATE\n",
      "v1    gs://crazy-hippo-01/ai-platform/ml_engine_training/earnings/export/savedmodel/  READY\n"
     ]
    },
    {
     "name": "stderr",
     "output_type": "stream",
     "text": [
      "Using endpoint [https://ml.googleapis.com/]\n"
     ]
    }
   ],
   "source": [
    "%%bash\n",
    "# create model\n",
    "gcloud ai-platform versions list --region='global' --model='earnings'"
   ]
  },
  {
   "cell_type": "markdown",
   "id": "extra-supplement",
   "metadata": {},
   "source": [
    "### Make a sample prediction"
   ]
  },
  {
   "cell_type": "code",
   "execution_count": 53,
   "id": "outer-valuable",
   "metadata": {},
   "outputs": [
    {
     "name": "stdout",
     "output_type": "stream",
     "text": [
      "OUTPUT\n",
      "[0.45906123518943787]\n"
     ]
    },
    {
     "name": "stderr",
     "output_type": "stream",
     "text": [
      "Using endpoint [https://ml.googleapis.com/]\n"
     ]
    }
   ],
   "source": [
    "%%bash\n",
    "gcloud ai-platform predict --model $MODEL_NAME --version $MODEL_VERSION --json-request $INPUT_DATA_FILE --region='global'"
   ]
  },
  {
   "cell_type": "markdown",
   "id": "through-conditioning",
   "metadata": {},
   "source": [
    "#### JSON file as example"
   ]
  },
  {
   "cell_type": "code",
   "execution_count": 52,
   "id": "foreign-layer",
   "metadata": {},
   "outputs": [
    {
     "name": "stdout",
     "output_type": "stream",
     "text": [
      "Overwriting earnings_predict.json\n"
     ]
    }
   ],
   "source": [
    "%%writefile earnings_predict.json\n",
    "{\n",
    "  \"instances\": [\n",
    "    {\"age\" : 0.27397260273972607,\n",
    "    \"education_num\" : 0.5333333333333333,\n",
    "    \"capital_gain\" : 0.0,\n",
    "    \"workclass_Federal-gov\" : 0,\n",
    "    \"workclass_Local-gov\" : 0,\n",
    "    \"workclass_Never-worked\" : 0,\n",
    "    \"workclass_Private\" : 1,\n",
    "    \"workclass_Self-emp-inc\" : 0,\n",
    "    \"workclass_Self-emp-not-inc\" : 0,\n",
    "    \"workclass_State-gov\" : 0,\n",
    "    \"workclass_Without-pay\" : 0,\n",
    "    \"gender_Female\" : 0,\n",
    "    \"gender_Male\" : 1,\n",
    "    \"occupation_Adm-clerical\" : 0,\n",
    "    \"occupation_Armed-Forces\" : 0 ,\n",
    "    \"occupation_Craft-repair\" : 0,\n",
    "    \"occupation_Exec-managerial\" : 1,\n",
    "    \"occupation_Farming-fishing\" : 0,\n",
    "    \"occupation_Handlers-cleaners\" : 0,\n",
    "    \"occupation_Machine-op-inspct\" : 0,\n",
    "    \"occupation_Other-service\" : 0,\n",
    "    \"occupation_Priv-house-serv\" : 0,\n",
    "    \"occupation_Prof-specialty\" : 0,\n",
    "    \"occupation_Protective-serv\" : 0,\n",
    "    \"occupation_Sales\" : 0,\n",
    "    \"occupation_Tech-support\" : 0,\n",
    "    \"occupation_Transport-moving\" : 0,\n",
    "    \"marital_status_Divorced\" : 0,\n",
    "    \"marital_status_Married-AF-spouse\" : 1,\n",
    "    \"marital_status_Married-civ-spouse\" : 0,\n",
    "    \"marital_status_Married-spouse-absent\" : 0,\n",
    "    \"marital_status_Never-married\" : 0,\n",
    "    \"marital_status_Separated\" : 0,\n",
    "    \"marital_status_Widowed\" : 0,\n",
    "    \"relationship_Husband\" : 0,\n",
    "    \"relationship_Not-in-family\" : 0,\n",
    "    \"relationship_Other-relative\" : 0,\n",
    "    \"relationship_Own-child\" : 0,\n",
    "    \"relationship_Unmarried\" : 1,\n",
    "    \"relationship_Wife\" : 0}\n",
    "  ]\n",
    "}"
   ]
  },
  {
   "cell_type": "markdown",
   "id": "further-formation",
   "metadata": {},
   "source": [
    "### Example of Python code for Client Library"
   ]
  },
  {
   "cell_type": "code",
   "execution_count": null,
   "id": "suited-solomon",
   "metadata": {},
   "outputs": [],
   "source": [
    "import googleapiclient.discovery\n",
    "\n",
    "def predict_json(project, model, instances, version=None):\n",
    "    \"\"\"Send json data to a deployed model for prediction.\n",
    "\n",
    "    Args:\n",
    "        project (str): project where the Cloud ML Engine Model is deployed.\n",
    "        model (str): model name.\n",
    "        instances ([Mapping[str: Any]]): Keys should be the names of Tensors\n",
    "            your deployed model expects as inputs. Values should be datatypes\n",
    "            convertible to Tensors, or (potentially nested) lists of datatypes\n",
    "            convertible to tensors.\n",
    "        version: str, version of the model to target.\n",
    "    Returns:\n",
    "        Mapping[str: any]: dictionary of prediction results defined by the\n",
    "            model.\n",
    "    \"\"\"\n",
    "    # Create the ML Engine service object.\n",
    "    # To authenticate set the environment variable\n",
    "    # GOOGLE_APPLICATION_CREDENTIALS=<path_to_service_account_file>\n",
    "    service = googleapiclient.discovery.build('ml', 'v1')\n",
    "    name = 'projects/{}/models/{}'.format(project, model)\n",
    "\n",
    "    if version is not None:\n",
    "        name += '/versions/{}'.format(version)\n",
    "\n",
    "    response = service.projects().predict(\n",
    "        name=name,\n",
    "        body={'instances': instances}\n",
    "    ).execute()\n",
    "\n",
    "    if 'error' in response:\n",
    "        raise RuntimeError(response['error'])\n",
    "\n",
    "    return response['predictions']"
   ]
  },
  {
   "cell_type": "code",
   "execution_count": null,
   "id": "activated-packet",
   "metadata": {},
   "outputs": [],
   "source": [
    "predict_json(PROJECT, MODEL_NAME, INPUT_DATA_FILE, MODEL_VERSION)"
   ]
  }
 ],
 "metadata": {
  "environment": {
   "name": "tf2-gpu.2-3.mnightly-2021-01-20-debian-10-test",
   "type": "gcloud",
   "uri": "gcr.io/deeplearning-platform-release/tf2-gpu.2-3:mnightly-2021-01-20-debian-10-test"
  },
  "kernelspec": {
   "display_name": "Python 3",
   "language": "python",
   "name": "python3"
  },
  "language_info": {
   "codemirror_mode": {
    "name": "ipython",
    "version": 3
   },
   "file_extension": ".py",
   "mimetype": "text/x-python",
   "name": "python",
   "nbconvert_exporter": "python",
   "pygments_lexer": "ipython3",
   "version": "3.7.9"
  }
 },
 "nbformat": 4,
 "nbformat_minor": 5
}
