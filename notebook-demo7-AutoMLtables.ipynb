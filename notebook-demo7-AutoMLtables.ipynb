{
 "cells": [
  {
   "cell_type": "markdown",
   "id": "prerequisite-stanford",
   "metadata": {},
   "source": [
    "# Data Classification with AutoML for Structured Data"
   ]
  },
  {
   "cell_type": "markdown",
   "id": "wound-guest",
   "metadata": {},
   "source": [
    "#### Import Libraries"
   ]
  },
  {
   "cell_type": "code",
   "execution_count": null,
   "id": "upset-graphic",
   "metadata": {},
   "outputs": [],
   "source": [
    "! pip install google-cloud-automl"
   ]
  },
  {
   "cell_type": "code",
   "execution_count": 27,
   "id": "recovered-plenty",
   "metadata": {},
   "outputs": [
    {
     "data": {
      "text/html": [
       "<script>Jupyter.notebook.kernel.restart()</script>"
      ],
      "text/plain": [
       "<IPython.core.display.HTML object>"
      ]
     },
     "execution_count": 27,
     "metadata": {},
     "output_type": "execute_result"
    }
   ],
   "source": [
    "from IPython.core.display import HTML\n",
    "HTML(\"<script>Jupyter.notebook.kernel.restart()</script>\")"
   ]
  },
  {
   "cell_type": "code",
   "execution_count": null,
   "id": "challenging-leisure",
   "metadata": {},
   "outputs": [],
   "source": [
    "from __future__ import absolute_import\n",
    "from __future__ import division\n",
    "from __future__ import print_function"
   ]
  },
  {
   "cell_type": "code",
   "execution_count": null,
   "id": "established-tourist",
   "metadata": {},
   "outputs": [],
   "source": [
    "# AutoML library.\n",
    "from google.cloud import automl_v1beta1 as automl\n",
    "from google.cloud import bigquery\n",
    "from google.cloud import storage"
   ]
  },
  {
   "cell_type": "code",
   "execution_count": null,
   "id": "legendary-video",
   "metadata": {},
   "outputs": [],
   "source": [
    "#import google.cloud.automl_v1beta1.proto.data_types_pb2 as data_types"
   ]
  },
  {
   "cell_type": "code",
   "execution_count": null,
   "id": "perceived-preliminary",
   "metadata": {},
   "outputs": [],
   "source": [
    "import matplotlib.pyplot as plt\n",
    "from ipywidgets import interact\n",
    "import ipywidgets as widgets"
   ]
  },
  {
   "cell_type": "markdown",
   "id": "laughing-wayne",
   "metadata": {},
   "source": [
    "#### Set Up GCP Parameters"
   ]
  },
  {
   "cell_type": "code",
   "execution_count": 35,
   "id": "occasional-adult",
   "metadata": {},
   "outputs": [],
   "source": [
    "PROJECT_ID = \"crazy-hippo-01\" #@param {type:\"string\"}\n",
    "COMPUTE_REGION = \"us-central1\" # Currently only supported region."
   ]
  },
  {
   "cell_type": "code",
   "execution_count": 37,
   "id": "after-topic",
   "metadata": {},
   "outputs": [],
   "source": [
    "# A name for the AutoML tables Dataset to create.\n",
    "DATASET_DISPLAY_NAME = 'earnings_predictions' #@param {type: 'string'}\n",
    "# The GCS data to import data from (doesn't need to exist).\n",
    "INPUT_CSV_NAME = 'clv_census' #@param {type: 'string'}\n",
    "# A name for the AutoML tables model to create.\n",
    "MODEL_DISPLAY_NAME = 'earnings_model' #@param {type: 'string'}\n",
    "\n",
    "assert all([\n",
    "    PROJECT_ID,\n",
    "    COMPUTE_REGION,\n",
    "    DATASET_DISPLAY_NAME,\n",
    "    INPUT_CSV_NAME,\n",
    "    MODEL_DISPLAY_NAME,\n",
    "])"
   ]
  },
  {
   "cell_type": "markdown",
   "id": "weighted-wyoming",
   "metadata": {},
   "source": [
    "#### Initialize AutoML Clients"
   ]
  },
  {
   "cell_type": "code",
   "execution_count": 38,
   "id": "unlimited-boston",
   "metadata": {},
   "outputs": [],
   "source": [
    "# Initialize the clients.\n",
    "automl_client = automl.AutoMlClient()\n",
    "tables_client = automl.TablesClient(project=PROJECT_ID, region=COMPUTE_REGION)"
   ]
  },
  {
   "cell_type": "markdown",
   "id": "alone-fountain",
   "metadata": {},
   "source": [
    "#### List Datasets"
   ]
  },
  {
   "cell_type": "code",
   "execution_count": 39,
   "id": "entitled-plate",
   "metadata": {},
   "outputs": [
    {
     "data": {
      "text/plain": [
       "{'earnings_predictions': 'projects/433654631026/locations/us-central1/datasets/TBL8051398744517640192',\n",
       " 'construction_ver1': 'projects/433654631026/locations/us-central1/datasets/IOD4538266129482645504',\n",
       " 'untitled_1591272188580': 'projects/433654631026/locations/us-central1/datasets/VOT4762109104711794688',\n",
       " 'flowers': 'projects/433654631026/locations/us-central1/datasets/ICN6417780102095962112',\n",
       " 'hippo_test_01': 'projects/433654631026/locations/us-central1/datasets/TBL4559696710619627520'}"
      ]
     },
     "execution_count": 39,
     "metadata": {},
     "output_type": "execute_result"
    }
   ],
   "source": [
    "# List the datasets.\n",
    "list_datasets = tables_client.list_datasets()\n",
    "datasets = { dataset.display_name: dataset.name for dataset in list_datasets }\n",
    "datasets"
   ]
  },
  {
   "cell_type": "markdown",
   "id": "capital-evanescence",
   "metadata": {},
   "source": [
    "#### List Models"
   ]
  },
  {
   "cell_type": "code",
   "execution_count": 40,
   "id": "liberal-potter",
   "metadata": {},
   "outputs": [
    {
     "data": {
      "text/plain": [
       "{'flowers_20200527082025': 'projects/433654631026/locations/us-central1/models/ICN8327157910031302656',\n",
       " 'construction_ver1_20200602083940': 'projects/433654631026/locations/us-central1/models/IOD9136961418027859968'}"
      ]
     },
     "execution_count": 40,
     "metadata": {},
     "output_type": "execute_result"
    }
   ],
   "source": [
    "# List the models.\n",
    "list_models = tables_client.list_models()\n",
    "models = { model.display_name: model.name for model in list_models }\n",
    "models"
   ]
  },
  {
   "cell_type": "markdown",
   "id": "isolated-producer",
   "metadata": {},
   "source": [
    "#### Create Dataset"
   ]
  },
  {
   "cell_type": "code",
   "execution_count": 56,
   "id": "amended-tours",
   "metadata": {},
   "outputs": [
    {
     "data": {
      "text/plain": [
       "name: \"projects/433654631026/locations/us-central1/datasets/TBL6184656698972569600\"\n",
       "display_name: \"earnings_predictions\"\n",
       "create_time {\n",
       "  seconds: 1612533311\n",
       "  nanos: 204514000\n",
       "}\n",
       "etag: \"AB3BwFqQEnlnsdngiOBwMi_Fj9Sn55CJe7AtlVIUpiF7jNwkLOhP3F9EuLJssqoBvz4=\"\n",
       "tables_dataset_metadata {\n",
       "  stats_update_time {\n",
       "  }\n",
       "}"
      ]
     },
     "execution_count": 56,
     "metadata": {},
     "output_type": "execute_result"
    }
   ],
   "source": [
    "# Create dataset.\n",
    "dataset = tables_client.create_dataset(\n",
    "          dataset_display_name=DATASET_DISPLAY_NAME)\n",
    "dataset_name = dataset.name\n",
    "dataset"
   ]
  },
  {
   "cell_type": "markdown",
   "id": "harmful-optics",
   "metadata": {},
   "source": [
    "#### Load Data into Dataset"
   ]
  },
  {
   "cell_type": "code",
   "execution_count": 57,
   "id": "under-island",
   "metadata": {},
   "outputs": [],
   "source": [
    "GCS_DATASET_URI = 'gs://automl-data-demo/clv_census.csv'"
   ]
  },
  {
   "cell_type": "code",
   "execution_count": 58,
   "id": "rural-hypothesis",
   "metadata": {},
   "outputs": [
    {
     "name": "stdout",
     "output_type": "stream",
     "text": [
      "Dataset import operation: name: \"projects/433654631026/locations/us-central1/operations/TBL3926338705479958528\"\n",
      "metadata {\n",
      "  type_url: \"type.googleapis.com/google.cloud.automl.v1beta1.OperationMetadata\"\n",
      "  value: \"\\032\\014\\010\\303\\234\\365\\200\\006\\020\\330\\232\\366\\264\\003\\\"\\014\\010\\303\\234\\365\\200\\006\\020\\330\\232\\366\\264\\003z\\000\"\n",
      "}\n",
      "\n",
      "Dataset import response: \n"
     ]
    },
    {
     "data": {
      "text/plain": [
       "name: \"projects/433654631026/locations/us-central1/datasets/TBL6184656698972569600\"\n",
       "display_name: \"earnings_predictions\"\n",
       "create_time {\n",
       "  seconds: 1612533311\n",
       "  nanos: 204514000\n",
       "}\n",
       "etag: \"AB3BwFrrJwFpUH1WzO7DEweTuXscfNqd2JLeG31s423IVPRvWlp5M4PPoWChAOW3uN37\"\n",
       "example_count: 32461\n",
       "tables_dataset_metadata {\n",
       "  primary_table_spec_id: \"951055567793684480\"\n",
       "  stats_update_time {\n",
       "    seconds: 1612533359\n",
       "    nanos: 52828000\n",
       "  }\n",
       "}"
      ]
     },
     "execution_count": 58,
     "metadata": {},
     "output_type": "execute_result"
    }
   ],
   "source": [
    "# Read the data source from GCS. \n",
    "import_data_response = tables_client.import_data(\n",
    "    dataset=dataset,\n",
    "    gcs_input_uris=GCS_DATASET_URI\n",
    ")\n",
    "print('Dataset import operation: {}'.format(import_data_response.operation))\n",
    "\n",
    "# Synchronous check of operation status. Wait until import is done.\n",
    "print('Dataset import response: {}'.format(import_data_response.result()))\n",
    "\n",
    "# Verify the status by checking the example_count field.\n",
    "dataset = tables_client.get_dataset(dataset_name=dataset_name)\n",
    "dataset"
   ]
  },
  {
   "cell_type": "markdown",
   "id": "hired-hartford",
   "metadata": {},
   "source": [
    "#### Set Target Column"
   ]
  },
  {
   "cell_type": "code",
   "execution_count": 62,
   "id": "waiting-editor",
   "metadata": {},
   "outputs": [
    {
     "data": {
      "text/plain": [
       "name: \"projects/433654631026/locations/us-central1/datasets/TBL6184656698972569600\"\n",
       "display_name: \"earnings_predictions\"\n",
       "create_time {\n",
       "  seconds: 1612533311\n",
       "  nanos: 204514000\n",
       "}\n",
       "etag: \"AB3BwFrPawlNbTCTBpQ3oUvx2g36ImzamW7CylynxBxekRa84S2LidnXwr3pHXtJLvkj\"\n",
       "example_count: 32461\n",
       "tables_dataset_metadata {\n",
       "  primary_table_spec_id: \"951055567793684480\"\n",
       "  target_column_spec_id: \"4833814305273020416\"\n",
       "  stats_update_time {\n",
       "    seconds: 1612533359\n",
       "    nanos: 52828000\n",
       "  }\n",
       "}"
      ]
     },
     "execution_count": 62,
     "metadata": {},
     "output_type": "execute_result"
    }
   ],
   "source": [
    "column_spec_display_name = 'income' #@param {type:'string'}\n",
    "\n",
    "update_dataset_response = tables_client.set_target_column(\n",
    "    dataset=dataset,\n",
    "    column_spec_display_name=column_spec_display_name,\n",
    ")\n",
    "update_dataset_response"
   ]
  },
  {
   "cell_type": "markdown",
   "id": "noticed-belarus",
   "metadata": {},
   "source": [
    "#### Set Training Parameters"
   ]
  },
  {
   "cell_type": "code",
   "execution_count": 64,
   "id": "arranged-identification",
   "metadata": {},
   "outputs": [
    {
     "name": "stdout",
     "output_type": "stream",
     "text": [
      "Create model operation: name: \"projects/433654631026/locations/us-central1/operations/TBL6447650809365659648\"\n",
      "metadata {\n",
      "  type_url: \"type.googleapis.com/google.cloud.automl.v1beta1.OperationMetadata\"\n",
      "  value: \"\\032\\014\\010\\261\\247\\365\\200\\006\\020\\250\\301\\230\\265\\003\\\"\\014\\010\\261\\247\\365\\200\\006\\020\\250\\301\\230\\265\\003R\\000\"\n",
      "}\n",
      "\n"
     ]
    }
   ],
   "source": [
    "# The number of hours to train the model.\n",
    "model_train_hours = 1 #@param {type:'integer'}\n",
    "\n",
    "create_model_response = tables_client.create_model(\n",
    "    model_display_name=MODEL_DISPLAY_NAME,\n",
    "    dataset=dataset,\n",
    "    train_budget_milli_node_hours=model_train_hours*1000,\n",
    "    exclude_column_spec_names=['fnlwgt','income'],\n",
    ")\n",
    "\n",
    "operation_id = create_model_response.operation.name\n",
    "\n",
    "print('Create model operation: {}'.format(create_model_response.operation))"
   ]
  },
  {
   "cell_type": "markdown",
   "id": "dressed-reminder",
   "metadata": {},
   "source": [
    "#### Kick off Training"
   ]
  },
  {
   "cell_type": "code",
   "execution_count": null,
   "id": "under-dollar",
   "metadata": {},
   "outputs": [],
   "source": [
    "# Wait until model training is done.\n",
    "model = create_model_response.result()\n",
    "model_name = model.name\n",
    "model"
   ]
  },
  {
   "cell_type": "code",
   "execution_count": 66,
   "id": "choice-effects",
   "metadata": {},
   "outputs": [
    {
     "data": {
      "text/plain": [
       "name: \"projects/433654631026/locations/us-central1/models/TBL713937089170767872\""
      ]
     },
     "execution_count": 66,
     "metadata": {},
     "output_type": "execute_result"
    }
   ],
   "source": [
    "model"
   ]
  },
  {
   "cell_type": "markdown",
   "id": "laughing-cabinet",
   "metadata": {},
   "source": [
    "#### Deploying Model"
   ]
  },
  {
   "cell_type": "code",
   "execution_count": 67,
   "id": "floppy-impression",
   "metadata": {},
   "outputs": [
    {
     "data": {
      "text/plain": []
     },
     "execution_count": 67,
     "metadata": {},
     "output_type": "execute_result"
    }
   ],
   "source": [
    "tables_client.deploy_model(model=model).result()\n"
   ]
  },
  {
   "cell_type": "markdown",
   "id": "prepared-airplane",
   "metadata": {},
   "source": [
    "#### Get Model Info"
   ]
  },
  {
   "cell_type": "code",
   "execution_count": 68,
   "id": "bored-learning",
   "metadata": {},
   "outputs": [
    {
     "data": {
      "text/plain": [
       "name: \"projects/433654631026/locations/us-central1/models/TBL713937089170767872\"\n",
       "display_name: \"earnings_model\"\n",
       "dataset_id: \"TBL6184656698972569600\"\n",
       "create_time {\n",
       "  seconds: 1612534705\n",
       "  nanos: 916857000\n",
       "}\n",
       "deployment_state: DEPLOYED\n",
       "update_time {\n",
       "  seconds: 1612701780\n",
       "  nanos: 86151000\n",
       "}\n",
       "tables_model_metadata {\n",
       "  target_column_spec {\n",
       "    name: \"projects/433654631026/locations/us-central1/datasets/TBL6184656698972569600/tableSpecs/951055567793684480/columnSpecs/4833814305273020416\"\n",
       "    data_type {\n",
       "      type_code: CATEGORY\n",
       "    }\n",
       "    display_name: \"income\"\n",
       "  }\n",
       "  input_feature_column_specs {\n",
       "    name: \"projects/433654631026/locations/us-central1/datasets/TBL6184656698972569600/tableSpecs/951055567793684480/columnSpecs/2527971296059326464\"\n",
       "    data_type {\n",
       "      type_code: FLOAT64\n",
       "    }\n",
       "    display_name: \"age\"\n",
       "  }\n",
       "  input_feature_column_specs {\n",
       "    name: \"projects/433654631026/locations/us-central1/datasets/TBL6184656698972569600/tableSpecs/951055567793684480/columnSpecs/8436694007169417216\"\n",
       "    data_type {\n",
       "      type_code: CATEGORY\n",
       "    }\n",
       "    display_name: \"workclass\"\n",
       "  }\n",
       "  input_feature_column_specs {\n",
       "    name: \"projects/433654631026/locations/us-central1/datasets/TBL6184656698972569600/tableSpecs/951055567793684480/columnSpecs/7860233254865993728\"\n",
       "    data_type {\n",
       "      type_code: STRING\n",
       "    }\n",
       "    display_name: \"education\"\n",
       "  }\n",
       "  input_feature_column_specs {\n",
       "    name: \"projects/433654631026/locations/us-central1/datasets/TBL6184656698972569600/tableSpecs/951055567793684480/columnSpecs/222128286845632512\"\n",
       "    data_type {\n",
       "      type_code: FLOAT64\n",
       "    }\n",
       "    display_name: \"education_num\"\n",
       "  }\n",
       "  input_feature_column_specs {\n",
       "    name: \"projects/433654631026/locations/us-central1/datasets/TBL6184656698972569600/tableSpecs/951055567793684480/columnSpecs/5986735809879867392\"\n",
       "    data_type {\n",
       "      type_code: CATEGORY\n",
       "    }\n",
       "    display_name: \"marital_status\"\n",
       "  }\n",
       "  input_feature_column_specs {\n",
       "    name: \"projects/433654631026/locations/us-central1/datasets/TBL6184656698972569600/tableSpecs/951055567793684480/columnSpecs/942704227224911872\"\n",
       "    data_type {\n",
       "      type_code: STRING\n",
       "    }\n",
       "    display_name: \"occupation\"\n",
       "  }\n",
       "  input_feature_column_specs {\n",
       "    name: \"projects/433654631026/locations/us-central1/datasets/TBL6184656698972569600/tableSpecs/951055567793684480/columnSpecs/4977929493348876288\"\n",
       "    data_type {\n",
       "      type_code: CATEGORY\n",
       "    }\n",
       "    display_name: \"relationship\"\n",
       "  }\n",
       "  input_feature_column_specs {\n",
       "    name: \"projects/433654631026/locations/us-central1/datasets/TBL6184656698972569600/tableSpecs/951055567793684480/columnSpecs/4401468741045452800\"\n",
       "    data_type {\n",
       "      type_code: CATEGORY\n",
       "    }\n",
       "    display_name: \"race\"\n",
       "  }\n",
       "  input_feature_column_specs {\n",
       "    name: \"projects/433654631026/locations/us-central1/datasets/TBL6184656698972569600/tableSpecs/951055567793684480/columnSpecs/6707311750259146752\"\n",
       "    data_type {\n",
       "      type_code: CATEGORY\n",
       "    }\n",
       "    display_name: \"sex\"\n",
       "  }\n",
       "  input_feature_column_specs {\n",
       "    name: \"projects/433654631026/locations/us-central1/datasets/TBL6184656698972569600/tableSpecs/951055567793684480/columnSpecs/5410275057576443904\"\n",
       "    data_type {\n",
       "      type_code: FLOAT64\n",
       "    }\n",
       "    display_name: \"capital_gain\"\n",
       "  }\n",
       "  input_feature_column_specs {\n",
       "    name: \"projects/433654631026/locations/us-central1/datasets/TBL6184656698972569600/tableSpecs/951055567793684480/columnSpecs/9013154759472840704\"\n",
       "    data_type {\n",
       "      type_code: FLOAT64\n",
       "    }\n",
       "    display_name: \"capital_loss\"\n",
       "  }\n",
       "  input_feature_column_specs {\n",
       "    name: \"projects/433654631026/locations/us-central1/datasets/TBL6184656698972569600/tableSpecs/951055567793684480/columnSpecs/3248547236438605824\"\n",
       "    data_type {\n",
       "      type_code: FLOAT64\n",
       "    }\n",
       "    display_name: \"hours_per_week\"\n",
       "  }\n",
       "  input_feature_column_specs {\n",
       "    name: \"projects/433654631026/locations/us-central1/datasets/TBL6184656698972569600/tableSpecs/951055567793684480/columnSpecs/2095625731831758848\"\n",
       "    data_type {\n",
       "      type_code: STRING\n",
       "    }\n",
       "    display_name: \"native_country\"\n",
       "  }\n",
       "  optimization_objective: \"MAXIMIZE_AU_ROC\"\n",
       "  tables_model_column_info {\n",
       "    column_spec_name: \"projects/433654631026/locations/us-central1/datasets/TBL6184656698972569600/tableSpecs/951055567793684480/columnSpecs/5410275057576443904\"\n",
       "    column_display_name: \"capital_gain\"\n",
       "    feature_importance: 0.05275333300232887\n",
       "  }\n",
       "  tables_model_column_info {\n",
       "    column_spec_name: \"projects/433654631026/locations/us-central1/datasets/TBL6184656698972569600/tableSpecs/951055567793684480/columnSpecs/8436694007169417216\"\n",
       "    column_display_name: \"workclass\"\n",
       "    feature_importance: 0.022278323769569397\n",
       "  }\n",
       "  tables_model_column_info {\n",
       "    column_spec_name: \"projects/433654631026/locations/us-central1/datasets/TBL6184656698972569600/tableSpecs/951055567793684480/columnSpecs/3248547236438605824\"\n",
       "    column_display_name: \"hours_per_week\"\n",
       "    feature_importance: 0.06561805307865143\n",
       "  }\n",
       "  tables_model_column_info {\n",
       "    column_spec_name: \"projects/433654631026/locations/us-central1/datasets/TBL6184656698972569600/tableSpecs/951055567793684480/columnSpecs/7860233254865993728\"\n",
       "    column_display_name: \"education\"\n",
       "    feature_importance: 0.039494749158620834\n",
       "  }\n",
       "  tables_model_column_info {\n",
       "    column_spec_name: \"projects/433654631026/locations/us-central1/datasets/TBL6184656698972569600/tableSpecs/951055567793684480/columnSpecs/5986735809879867392\"\n",
       "    column_display_name: \"marital_status\"\n",
       "    feature_importance: 0.2606993019580841\n",
       "  }\n",
       "  tables_model_column_info {\n",
       "    column_spec_name: \"projects/433654631026/locations/us-central1/datasets/TBL6184656698972569600/tableSpecs/951055567793684480/columnSpecs/2095625731831758848\"\n",
       "    column_display_name: \"native_country\"\n",
       "    feature_importance: 0.005029141902923584\n",
       "  }\n",
       "  tables_model_column_info {\n",
       "    column_spec_name: \"projects/433654631026/locations/us-central1/datasets/TBL6184656698972569600/tableSpecs/951055567793684480/columnSpecs/222128286845632512\"\n",
       "    column_display_name: \"education_num\"\n",
       "    feature_importance: 0.12640945613384247\n",
       "  }\n",
       "  tables_model_column_info {\n",
       "    column_spec_name: \"projects/433654631026/locations/us-central1/datasets/TBL6184656698972569600/tableSpecs/951055567793684480/columnSpecs/942704227224911872\"\n",
       "    column_display_name: \"occupation\"\n",
       "    feature_importance: 0.17080137133598328\n",
       "  }\n",
       "  tables_model_column_info {\n",
       "    column_spec_name: \"projects/433654631026/locations/us-central1/datasets/TBL6184656698972569600/tableSpecs/951055567793684480/columnSpecs/9013154759472840704\"\n",
       "    column_display_name: \"capital_loss\"\n",
       "    feature_importance: 0.027455700561404228\n",
       "  }\n",
       "  tables_model_column_info {\n",
       "    column_spec_name: \"projects/433654631026/locations/us-central1/datasets/TBL6184656698972569600/tableSpecs/951055567793684480/columnSpecs/2527971296059326464\"\n",
       "    column_display_name: \"age\"\n",
       "    feature_importance: 0.151458278298378\n",
       "  }\n",
       "  tables_model_column_info {\n",
       "    column_spec_name: \"projects/433654631026/locations/us-central1/datasets/TBL6184656698972569600/tableSpecs/951055567793684480/columnSpecs/4977929493348876288\"\n",
       "    column_display_name: \"relationship\"\n",
       "    feature_importance: 0.03903954476118088\n",
       "  }\n",
       "  tables_model_column_info {\n",
       "    column_spec_name: \"projects/433654631026/locations/us-central1/datasets/TBL6184656698972569600/tableSpecs/951055567793684480/columnSpecs/4401468741045452800\"\n",
       "    column_display_name: \"race\"\n",
       "    feature_importance: 0.009001921862363815\n",
       "  }\n",
       "  tables_model_column_info {\n",
       "    column_spec_name: \"projects/433654631026/locations/us-central1/datasets/TBL6184656698972569600/tableSpecs/951055567793684480/columnSpecs/6707311750259146752\"\n",
       "    column_display_name: \"sex\"\n",
       "    feature_importance: 0.029960820451378822\n",
       "  }\n",
       "  train_budget_milli_node_hours: 1000\n",
       "  train_cost_milli_node_hours: 1000\n",
       "}"
      ]
     },
     "execution_count": 68,
     "metadata": {},
     "output_type": "execute_result"
    }
   ],
   "source": [
    "model = tables_client.get_model(model_name=model_name)\n",
    "model"
   ]
  },
  {
   "cell_type": "code",
   "execution_count": null,
   "id": "specific-opportunity",
   "metadata": {},
   "outputs": [],
   "source": []
  }
 ],
 "metadata": {
  "environment": {
   "name": "tf2-gpu.2-3.mnightly-2021-01-20-debian-10-test",
   "type": "gcloud",
   "uri": "gcr.io/deeplearning-platform-release/tf2-gpu.2-3:mnightly-2021-01-20-debian-10-test"
  },
  "kernelspec": {
   "display_name": "Python 3",
   "language": "python",
   "name": "python3"
  },
  "language_info": {
   "codemirror_mode": {
    "name": "ipython",
    "version": 3
   },
   "file_extension": ".py",
   "mimetype": "text/x-python",
   "name": "python",
   "nbconvert_exporter": "python",
   "pygments_lexer": "ipython3",
   "version": "3.7.9"
  }
 },
 "nbformat": 4,
 "nbformat_minor": 5
}
